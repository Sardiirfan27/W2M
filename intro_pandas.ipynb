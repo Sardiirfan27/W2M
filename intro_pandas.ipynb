{
  "nbformat": 4,
  "nbformat_minor": 0,
  "metadata": {
    "colab": {
      "name": "intro_pandas.ipynb",
      "provenance": [],
      "collapsed_sections": []
    },
    "kernelspec": {
      "name": "python3",
      "display_name": "Python 3"
    },
    "language_info": {
      "name": "python"
    }
  },
  "cells": [
    {
      "cell_type": "markdown",
      "metadata": {
        "id": "e1bUCH2QZxg2"
      },
      "source": [
        "Dalam tutorial ini, Anda akan menganalisis hasil NBA yang disediakan oleh FiveThirtyEight dalam file CSV 17 MB . Buat skrip untuk mengunduh data:"
      ]
    },
    {
      "cell_type": "code",
      "metadata": {
        "colab": {
          "base_uri": "https://localhost:8080/"
        },
        "id": "x8Aw4FTzF8Sb",
        "outputId": "8ab1bc3f-2ed6-4323-9748-8bfe7495113e"
      },
      "source": [
        "import requests\n",
        "\n",
        "download_url = \"https://raw.githubusercontent.com/fivethirtyeight/data/master/nba-elo/nbaallelo.csv\"\n",
        "target_csv_path = \"nba_all_elo.csv\"\n",
        "\n",
        "response = requests.get(download_url)\n",
        "response.raise_for_status()    # Check that the request was successful\n",
        "with open(target_csv_path, \"wb\") as f:\n",
        "    f.write(response.content)\n",
        "print(\"Download ready.\")"
      ],
      "execution_count": 3,
      "outputs": [
        {
          "output_type": "stream",
          "text": [
            "Download ready.\n"
          ],
          "name": "stdout"
        }
      ]
    },
    {
      "cell_type": "code",
      "metadata": {
        "colab": {
          "base_uri": "https://localhost:8080/"
        },
        "id": "xT_C-czcGgAA",
        "outputId": "02007afd-f5e3-4609-e137-5f1031d55a40"
      },
      "source": [
        "import pandas as pd\n",
        "import numpy as np\n",
        "nba = pd.read_csv(\"nba_all_elo.csv\")\n",
        "type(nba)"
      ],
      "execution_count": 4,
      "outputs": [
        {
          "output_type": "execute_result",
          "data": {
            "text/plain": [
              "pandas.core.frame.DataFrame"
            ]
          },
          "metadata": {
            "tags": []
          },
          "execution_count": 4
        }
      ]
    },
    {
      "cell_type": "markdown",
      "metadata": {
        "id": "O8GWl7ACG6ji"
      },
      "source": [
        "Anda dapat melihat berapa banyak data:"
      ]
    },
    {
      "cell_type": "code",
      "metadata": {
        "colab": {
          "base_uri": "https://localhost:8080/"
        },
        "id": "OwsON7R6G58W",
        "outputId": "e905d953-2eeb-464f-a288-525f96ee032d"
      },
      "source": [
        "len(nba)"
      ],
      "execution_count": 5,
      "outputs": [
        {
          "output_type": "execute_result",
          "data": {
            "text/plain": [
              "126314"
            ]
          },
          "metadata": {
            "tags": []
          },
          "execution_count": 5
        }
      ]
    },
    {
      "cell_type": "code",
      "metadata": {
        "colab": {
          "base_uri": "https://localhost:8080/"
        },
        "id": "QJZSeRNHHC0L",
        "outputId": "ad18b948-596e-4cfd-ae6d-e59995019938"
      },
      "source": [
        "nba.shape"
      ],
      "execution_count": 6,
      "outputs": [
        {
          "output_type": "execute_result",
          "data": {
            "text/plain": [
              "(126314, 23)"
            ]
          },
          "metadata": {
            "tags": []
          },
          "execution_count": 6
        }
      ]
    },
    {
      "cell_type": "markdown",
      "metadata": {
        "id": "YCQkHN2DHKRc"
      },
      "source": [
        "Anda menggunakan fungsi bawaan Python `len()` untuk menentukan jumlah baris. Anda juga menggunakan `.shape` atribut DataFrame untuk melihat dimensinya . Hasilnya adalah tuple yang berisi jumlah baris dan kolom."
      ]
    },
    {
      "cell_type": "markdown",
      "metadata": {
        "id": "5zyiLol8HdU0"
      },
      "source": [
        "Anda dapat melihat lima baris pertama dengan .head():"
      ]
    },
    {
      "cell_type": "code",
      "metadata": {
        "colab": {
          "base_uri": "https://localhost:8080/",
          "height": 221
        },
        "id": "jsfSJICtHTXu",
        "outputId": "30de4b62-f518-492c-a6c0-b74b50b0d795"
      },
      "source": [
        "nba.head()"
      ],
      "execution_count": 7,
      "outputs": [
        {
          "output_type": "execute_result",
          "data": {
            "text/html": [
              "<div>\n",
              "<style scoped>\n",
              "    .dataframe tbody tr th:only-of-type {\n",
              "        vertical-align: middle;\n",
              "    }\n",
              "\n",
              "    .dataframe tbody tr th {\n",
              "        vertical-align: top;\n",
              "    }\n",
              "\n",
              "    .dataframe thead th {\n",
              "        text-align: right;\n",
              "    }\n",
              "</style>\n",
              "<table border=\"1\" class=\"dataframe\">\n",
              "  <thead>\n",
              "    <tr style=\"text-align: right;\">\n",
              "      <th></th>\n",
              "      <th>gameorder</th>\n",
              "      <th>game_id</th>\n",
              "      <th>lg_id</th>\n",
              "      <th>_iscopy</th>\n",
              "      <th>year_id</th>\n",
              "      <th>date_game</th>\n",
              "      <th>seasongame</th>\n",
              "      <th>is_playoffs</th>\n",
              "      <th>team_id</th>\n",
              "      <th>fran_id</th>\n",
              "      <th>pts</th>\n",
              "      <th>elo_i</th>\n",
              "      <th>elo_n</th>\n",
              "      <th>win_equiv</th>\n",
              "      <th>opp_id</th>\n",
              "      <th>opp_fran</th>\n",
              "      <th>opp_pts</th>\n",
              "      <th>opp_elo_i</th>\n",
              "      <th>opp_elo_n</th>\n",
              "      <th>game_location</th>\n",
              "      <th>game_result</th>\n",
              "      <th>forecast</th>\n",
              "      <th>notes</th>\n",
              "    </tr>\n",
              "  </thead>\n",
              "  <tbody>\n",
              "    <tr>\n",
              "      <th>0</th>\n",
              "      <td>1</td>\n",
              "      <td>194611010TRH</td>\n",
              "      <td>NBA</td>\n",
              "      <td>0</td>\n",
              "      <td>1947</td>\n",
              "      <td>11/1/1946</td>\n",
              "      <td>1</td>\n",
              "      <td>0</td>\n",
              "      <td>TRH</td>\n",
              "      <td>Huskies</td>\n",
              "      <td>66</td>\n",
              "      <td>1300.0000</td>\n",
              "      <td>1293.2767</td>\n",
              "      <td>40.294830</td>\n",
              "      <td>NYK</td>\n",
              "      <td>Knicks</td>\n",
              "      <td>68</td>\n",
              "      <td>1300.0000</td>\n",
              "      <td>1306.7233</td>\n",
              "      <td>H</td>\n",
              "      <td>L</td>\n",
              "      <td>0.640065</td>\n",
              "      <td>NaN</td>\n",
              "    </tr>\n",
              "    <tr>\n",
              "      <th>1</th>\n",
              "      <td>1</td>\n",
              "      <td>194611010TRH</td>\n",
              "      <td>NBA</td>\n",
              "      <td>1</td>\n",
              "      <td>1947</td>\n",
              "      <td>11/1/1946</td>\n",
              "      <td>1</td>\n",
              "      <td>0</td>\n",
              "      <td>NYK</td>\n",
              "      <td>Knicks</td>\n",
              "      <td>68</td>\n",
              "      <td>1300.0000</td>\n",
              "      <td>1306.7233</td>\n",
              "      <td>41.705170</td>\n",
              "      <td>TRH</td>\n",
              "      <td>Huskies</td>\n",
              "      <td>66</td>\n",
              "      <td>1300.0000</td>\n",
              "      <td>1293.2767</td>\n",
              "      <td>A</td>\n",
              "      <td>W</td>\n",
              "      <td>0.359935</td>\n",
              "      <td>NaN</td>\n",
              "    </tr>\n",
              "    <tr>\n",
              "      <th>2</th>\n",
              "      <td>2</td>\n",
              "      <td>194611020CHS</td>\n",
              "      <td>NBA</td>\n",
              "      <td>0</td>\n",
              "      <td>1947</td>\n",
              "      <td>11/2/1946</td>\n",
              "      <td>1</td>\n",
              "      <td>0</td>\n",
              "      <td>CHS</td>\n",
              "      <td>Stags</td>\n",
              "      <td>63</td>\n",
              "      <td>1300.0000</td>\n",
              "      <td>1309.6521</td>\n",
              "      <td>42.012257</td>\n",
              "      <td>NYK</td>\n",
              "      <td>Knicks</td>\n",
              "      <td>47</td>\n",
              "      <td>1306.7233</td>\n",
              "      <td>1297.0712</td>\n",
              "      <td>H</td>\n",
              "      <td>W</td>\n",
              "      <td>0.631101</td>\n",
              "      <td>NaN</td>\n",
              "    </tr>\n",
              "    <tr>\n",
              "      <th>3</th>\n",
              "      <td>2</td>\n",
              "      <td>194611020CHS</td>\n",
              "      <td>NBA</td>\n",
              "      <td>1</td>\n",
              "      <td>1947</td>\n",
              "      <td>11/2/1946</td>\n",
              "      <td>2</td>\n",
              "      <td>0</td>\n",
              "      <td>NYK</td>\n",
              "      <td>Knicks</td>\n",
              "      <td>47</td>\n",
              "      <td>1306.7233</td>\n",
              "      <td>1297.0712</td>\n",
              "      <td>40.692783</td>\n",
              "      <td>CHS</td>\n",
              "      <td>Stags</td>\n",
              "      <td>63</td>\n",
              "      <td>1300.0000</td>\n",
              "      <td>1309.6521</td>\n",
              "      <td>A</td>\n",
              "      <td>L</td>\n",
              "      <td>0.368899</td>\n",
              "      <td>NaN</td>\n",
              "    </tr>\n",
              "    <tr>\n",
              "      <th>4</th>\n",
              "      <td>3</td>\n",
              "      <td>194611020DTF</td>\n",
              "      <td>NBA</td>\n",
              "      <td>0</td>\n",
              "      <td>1947</td>\n",
              "      <td>11/2/1946</td>\n",
              "      <td>1</td>\n",
              "      <td>0</td>\n",
              "      <td>DTF</td>\n",
              "      <td>Falcons</td>\n",
              "      <td>33</td>\n",
              "      <td>1300.0000</td>\n",
              "      <td>1279.6189</td>\n",
              "      <td>38.864048</td>\n",
              "      <td>WSC</td>\n",
              "      <td>Capitols</td>\n",
              "      <td>50</td>\n",
              "      <td>1300.0000</td>\n",
              "      <td>1320.3811</td>\n",
              "      <td>H</td>\n",
              "      <td>L</td>\n",
              "      <td>0.640065</td>\n",
              "      <td>NaN</td>\n",
              "    </tr>\n",
              "  </tbody>\n",
              "</table>\n",
              "</div>"
            ],
            "text/plain": [
              "   gameorder       game_id lg_id  ...  game_result  forecast notes\n",
              "0          1  194611010TRH   NBA  ...            L  0.640065   NaN\n",
              "1          1  194611010TRH   NBA  ...            W  0.359935   NaN\n",
              "2          2  194611020CHS   NBA  ...            W  0.631101   NaN\n",
              "3          2  194611020CHS   NBA  ...            L  0.368899   NaN\n",
              "4          3  194611020DTF   NBA  ...            L  0.640065   NaN\n",
              "\n",
              "[5 rows x 23 columns]"
            ]
          },
          "metadata": {
            "tags": []
          },
          "execution_count": 7
        }
      ]
    },
    {
      "cell_type": "code",
      "metadata": {
        "colab": {
          "base_uri": "https://localhost:8080/",
          "height": 221
        },
        "id": "jVXWQ78VNiTj",
        "outputId": "18a84304-e4a9-4fb4-f22b-49fc0afae020"
      },
      "source": [
        "nba.tail()"
      ],
      "execution_count": 8,
      "outputs": [
        {
          "output_type": "execute_result",
          "data": {
            "text/html": [
              "<div>\n",
              "<style scoped>\n",
              "    .dataframe tbody tr th:only-of-type {\n",
              "        vertical-align: middle;\n",
              "    }\n",
              "\n",
              "    .dataframe tbody tr th {\n",
              "        vertical-align: top;\n",
              "    }\n",
              "\n",
              "    .dataframe thead th {\n",
              "        text-align: right;\n",
              "    }\n",
              "</style>\n",
              "<table border=\"1\" class=\"dataframe\">\n",
              "  <thead>\n",
              "    <tr style=\"text-align: right;\">\n",
              "      <th></th>\n",
              "      <th>gameorder</th>\n",
              "      <th>game_id</th>\n",
              "      <th>lg_id</th>\n",
              "      <th>_iscopy</th>\n",
              "      <th>year_id</th>\n",
              "      <th>date_game</th>\n",
              "      <th>seasongame</th>\n",
              "      <th>is_playoffs</th>\n",
              "      <th>team_id</th>\n",
              "      <th>fran_id</th>\n",
              "      <th>pts</th>\n",
              "      <th>elo_i</th>\n",
              "      <th>elo_n</th>\n",
              "      <th>win_equiv</th>\n",
              "      <th>opp_id</th>\n",
              "      <th>opp_fran</th>\n",
              "      <th>opp_pts</th>\n",
              "      <th>opp_elo_i</th>\n",
              "      <th>opp_elo_n</th>\n",
              "      <th>game_location</th>\n",
              "      <th>game_result</th>\n",
              "      <th>forecast</th>\n",
              "      <th>notes</th>\n",
              "    </tr>\n",
              "  </thead>\n",
              "  <tbody>\n",
              "    <tr>\n",
              "      <th>126309</th>\n",
              "      <td>63155</td>\n",
              "      <td>201506110CLE</td>\n",
              "      <td>NBA</td>\n",
              "      <td>0</td>\n",
              "      <td>2015</td>\n",
              "      <td>6/11/2015</td>\n",
              "      <td>100</td>\n",
              "      <td>1</td>\n",
              "      <td>CLE</td>\n",
              "      <td>Cavaliers</td>\n",
              "      <td>82</td>\n",
              "      <td>1723.4149</td>\n",
              "      <td>1704.3949</td>\n",
              "      <td>60.309792</td>\n",
              "      <td>GSW</td>\n",
              "      <td>Warriors</td>\n",
              "      <td>103</td>\n",
              "      <td>1790.9591</td>\n",
              "      <td>1809.9791</td>\n",
              "      <td>H</td>\n",
              "      <td>L</td>\n",
              "      <td>0.546572</td>\n",
              "      <td>NaN</td>\n",
              "    </tr>\n",
              "    <tr>\n",
              "      <th>126310</th>\n",
              "      <td>63156</td>\n",
              "      <td>201506140GSW</td>\n",
              "      <td>NBA</td>\n",
              "      <td>0</td>\n",
              "      <td>2015</td>\n",
              "      <td>6/14/2015</td>\n",
              "      <td>102</td>\n",
              "      <td>1</td>\n",
              "      <td>GSW</td>\n",
              "      <td>Warriors</td>\n",
              "      <td>104</td>\n",
              "      <td>1809.9791</td>\n",
              "      <td>1813.6349</td>\n",
              "      <td>68.013329</td>\n",
              "      <td>CLE</td>\n",
              "      <td>Cavaliers</td>\n",
              "      <td>91</td>\n",
              "      <td>1704.3949</td>\n",
              "      <td>1700.7391</td>\n",
              "      <td>H</td>\n",
              "      <td>W</td>\n",
              "      <td>0.765565</td>\n",
              "      <td>NaN</td>\n",
              "    </tr>\n",
              "    <tr>\n",
              "      <th>126311</th>\n",
              "      <td>63156</td>\n",
              "      <td>201506140GSW</td>\n",
              "      <td>NBA</td>\n",
              "      <td>1</td>\n",
              "      <td>2015</td>\n",
              "      <td>6/14/2015</td>\n",
              "      <td>101</td>\n",
              "      <td>1</td>\n",
              "      <td>CLE</td>\n",
              "      <td>Cavaliers</td>\n",
              "      <td>91</td>\n",
              "      <td>1704.3949</td>\n",
              "      <td>1700.7391</td>\n",
              "      <td>60.010067</td>\n",
              "      <td>GSW</td>\n",
              "      <td>Warriors</td>\n",
              "      <td>104</td>\n",
              "      <td>1809.9791</td>\n",
              "      <td>1813.6349</td>\n",
              "      <td>A</td>\n",
              "      <td>L</td>\n",
              "      <td>0.234435</td>\n",
              "      <td>NaN</td>\n",
              "    </tr>\n",
              "    <tr>\n",
              "      <th>126312</th>\n",
              "      <td>63157</td>\n",
              "      <td>201506170CLE</td>\n",
              "      <td>NBA</td>\n",
              "      <td>0</td>\n",
              "      <td>2015</td>\n",
              "      <td>6/16/2015</td>\n",
              "      <td>102</td>\n",
              "      <td>1</td>\n",
              "      <td>CLE</td>\n",
              "      <td>Cavaliers</td>\n",
              "      <td>97</td>\n",
              "      <td>1700.7391</td>\n",
              "      <td>1692.0859</td>\n",
              "      <td>59.290245</td>\n",
              "      <td>GSW</td>\n",
              "      <td>Warriors</td>\n",
              "      <td>105</td>\n",
              "      <td>1813.6349</td>\n",
              "      <td>1822.2881</td>\n",
              "      <td>H</td>\n",
              "      <td>L</td>\n",
              "      <td>0.481450</td>\n",
              "      <td>NaN</td>\n",
              "    </tr>\n",
              "    <tr>\n",
              "      <th>126313</th>\n",
              "      <td>63157</td>\n",
              "      <td>201506170CLE</td>\n",
              "      <td>NBA</td>\n",
              "      <td>1</td>\n",
              "      <td>2015</td>\n",
              "      <td>6/16/2015</td>\n",
              "      <td>103</td>\n",
              "      <td>1</td>\n",
              "      <td>GSW</td>\n",
              "      <td>Warriors</td>\n",
              "      <td>105</td>\n",
              "      <td>1813.6349</td>\n",
              "      <td>1822.2881</td>\n",
              "      <td>68.519516</td>\n",
              "      <td>CLE</td>\n",
              "      <td>Cavaliers</td>\n",
              "      <td>97</td>\n",
              "      <td>1700.7391</td>\n",
              "      <td>1692.0859</td>\n",
              "      <td>A</td>\n",
              "      <td>W</td>\n",
              "      <td>0.518550</td>\n",
              "      <td>NaN</td>\n",
              "    </tr>\n",
              "  </tbody>\n",
              "</table>\n",
              "</div>"
            ],
            "text/plain": [
              "        gameorder       game_id lg_id  ...  game_result  forecast notes\n",
              "126309      63155  201506110CLE   NBA  ...            L  0.546572   NaN\n",
              "126310      63156  201506140GSW   NBA  ...            W  0.765565   NaN\n",
              "126311      63156  201506140GSW   NBA  ...            L  0.234435   NaN\n",
              "126312      63157  201506170CLE   NBA  ...            L  0.481450   NaN\n",
              "126313      63157  201506170CLE   NBA  ...            W  0.518550   NaN\n",
              "\n",
              "[5 rows x 23 columns]"
            ]
          },
          "metadata": {
            "tags": []
          },
          "execution_count": 8
        }
      ]
    },
    {
      "cell_type": "markdown",
      "metadata": {
        "id": "FgW92acbN9gv"
      },
      "source": [
        "#Menampilkan Tipe Data\n",
        "Langkah pertama untuk mengenal data Anda adalah menemukan berbagai tipe data yang dikandungnya. Meskipun Anda dapat memasukkan apa saja ke dalam daftar, kolom DataFrame berisi nilai tipe data tertentu. Saat Anda membandingkan struktur data Pandas dan Python, Anda akan melihat bahwa perilaku ini membuat Pandas lebih cepat!"
      ]
    },
    {
      "cell_type": "code",
      "metadata": {
        "colab": {
          "base_uri": "https://localhost:8080/"
        },
        "id": "65rvTgAJNjom",
        "outputId": "2fa6975f-7be5-4f41-dcc3-aa93b9b39056"
      },
      "source": [
        "nba.info()"
      ],
      "execution_count": 9,
      "outputs": [
        {
          "output_type": "stream",
          "text": [
            "<class 'pandas.core.frame.DataFrame'>\n",
            "RangeIndex: 126314 entries, 0 to 126313\n",
            "Data columns (total 23 columns):\n",
            " #   Column         Non-Null Count   Dtype  \n",
            "---  ------         --------------   -----  \n",
            " 0   gameorder      126314 non-null  int64  \n",
            " 1   game_id        126314 non-null  object \n",
            " 2   lg_id          126314 non-null  object \n",
            " 3   _iscopy        126314 non-null  int64  \n",
            " 4   year_id        126314 non-null  int64  \n",
            " 5   date_game      126314 non-null  object \n",
            " 6   seasongame     126314 non-null  int64  \n",
            " 7   is_playoffs    126314 non-null  int64  \n",
            " 8   team_id        126314 non-null  object \n",
            " 9   fran_id        126314 non-null  object \n",
            " 10  pts            126314 non-null  int64  \n",
            " 11  elo_i          126314 non-null  float64\n",
            " 12  elo_n          126314 non-null  float64\n",
            " 13  win_equiv      126314 non-null  float64\n",
            " 14  opp_id         126314 non-null  object \n",
            " 15  opp_fran       126314 non-null  object \n",
            " 16  opp_pts        126314 non-null  int64  \n",
            " 17  opp_elo_i      126314 non-null  float64\n",
            " 18  opp_elo_n      126314 non-null  float64\n",
            " 19  game_location  126314 non-null  object \n",
            " 20  game_result    126314 non-null  object \n",
            " 21  forecast       126314 non-null  float64\n",
            " 22  notes          5424 non-null    object \n",
            "dtypes: float64(6), int64(7), object(10)\n",
            "memory usage: 22.2+ MB\n"
          ],
          "name": "stdout"
        }
      ]
    },
    {
      "cell_type": "markdown",
      "metadata": {
        "id": "cPSXqEV7OaGK"
      },
      "source": [
        "Anda akan melihat daftar semua kolom di kumpulan data Anda dan jenis data yang ada di setiap kolom. Di sini, Anda dapat melihat tipe data int64, float64, dan object."
      ]
    },
    {
      "cell_type": "markdown",
      "metadata": {
        "id": "J2n6B8l_Olz6"
      },
      "source": [
        "#Menampilkan Statistik Dasar"
      ]
    },
    {
      "cell_type": "code",
      "metadata": {
        "colab": {
          "base_uri": "https://localhost:8080/",
          "height": 293
        },
        "id": "3hmyACnAOTiA",
        "outputId": "cc495915-6f78-4b18-ec26-c1ba07e2f1d1"
      },
      "source": [
        "nba.describe()"
      ],
      "execution_count": 10,
      "outputs": [
        {
          "output_type": "execute_result",
          "data": {
            "text/html": [
              "<div>\n",
              "<style scoped>\n",
              "    .dataframe tbody tr th:only-of-type {\n",
              "        vertical-align: middle;\n",
              "    }\n",
              "\n",
              "    .dataframe tbody tr th {\n",
              "        vertical-align: top;\n",
              "    }\n",
              "\n",
              "    .dataframe thead th {\n",
              "        text-align: right;\n",
              "    }\n",
              "</style>\n",
              "<table border=\"1\" class=\"dataframe\">\n",
              "  <thead>\n",
              "    <tr style=\"text-align: right;\">\n",
              "      <th></th>\n",
              "      <th>gameorder</th>\n",
              "      <th>_iscopy</th>\n",
              "      <th>year_id</th>\n",
              "      <th>seasongame</th>\n",
              "      <th>is_playoffs</th>\n",
              "      <th>pts</th>\n",
              "      <th>elo_i</th>\n",
              "      <th>elo_n</th>\n",
              "      <th>win_equiv</th>\n",
              "      <th>opp_pts</th>\n",
              "      <th>opp_elo_i</th>\n",
              "      <th>opp_elo_n</th>\n",
              "      <th>forecast</th>\n",
              "    </tr>\n",
              "  </thead>\n",
              "  <tbody>\n",
              "    <tr>\n",
              "      <th>count</th>\n",
              "      <td>126314.000000</td>\n",
              "      <td>126314.000000</td>\n",
              "      <td>126314.000000</td>\n",
              "      <td>126314.000000</td>\n",
              "      <td>126314.000000</td>\n",
              "      <td>126314.000000</td>\n",
              "      <td>126314.000000</td>\n",
              "      <td>126314.000000</td>\n",
              "      <td>126314.000000</td>\n",
              "      <td>126314.000000</td>\n",
              "      <td>126314.000000</td>\n",
              "      <td>126314.000000</td>\n",
              "      <td>126314.000000</td>\n",
              "    </tr>\n",
              "    <tr>\n",
              "      <th>mean</th>\n",
              "      <td>31579.000000</td>\n",
              "      <td>0.500000</td>\n",
              "      <td>1988.200374</td>\n",
              "      <td>43.533733</td>\n",
              "      <td>0.063857</td>\n",
              "      <td>102.729982</td>\n",
              "      <td>1495.236055</td>\n",
              "      <td>1495.236055</td>\n",
              "      <td>41.707889</td>\n",
              "      <td>102.729982</td>\n",
              "      <td>1495.236055</td>\n",
              "      <td>1495.236055</td>\n",
              "      <td>0.500000</td>\n",
              "    </tr>\n",
              "    <tr>\n",
              "      <th>std</th>\n",
              "      <td>18231.927643</td>\n",
              "      <td>0.500002</td>\n",
              "      <td>17.582309</td>\n",
              "      <td>25.375178</td>\n",
              "      <td>0.244499</td>\n",
              "      <td>14.814845</td>\n",
              "      <td>112.139945</td>\n",
              "      <td>112.461687</td>\n",
              "      <td>10.627332</td>\n",
              "      <td>14.814845</td>\n",
              "      <td>112.139945</td>\n",
              "      <td>112.461687</td>\n",
              "      <td>0.215252</td>\n",
              "    </tr>\n",
              "    <tr>\n",
              "      <th>min</th>\n",
              "      <td>1.000000</td>\n",
              "      <td>0.000000</td>\n",
              "      <td>1947.000000</td>\n",
              "      <td>1.000000</td>\n",
              "      <td>0.000000</td>\n",
              "      <td>0.000000</td>\n",
              "      <td>1091.644500</td>\n",
              "      <td>1085.774400</td>\n",
              "      <td>10.152501</td>\n",
              "      <td>0.000000</td>\n",
              "      <td>1091.644500</td>\n",
              "      <td>1085.774400</td>\n",
              "      <td>0.020447</td>\n",
              "    </tr>\n",
              "    <tr>\n",
              "      <th>25%</th>\n",
              "      <td>15790.000000</td>\n",
              "      <td>0.000000</td>\n",
              "      <td>1975.000000</td>\n",
              "      <td>22.000000</td>\n",
              "      <td>0.000000</td>\n",
              "      <td>93.000000</td>\n",
              "      <td>1417.237975</td>\n",
              "      <td>1416.994900</td>\n",
              "      <td>34.103035</td>\n",
              "      <td>93.000000</td>\n",
              "      <td>1417.237975</td>\n",
              "      <td>1416.994900</td>\n",
              "      <td>0.327989</td>\n",
              "    </tr>\n",
              "    <tr>\n",
              "      <th>50%</th>\n",
              "      <td>31579.000000</td>\n",
              "      <td>0.500000</td>\n",
              "      <td>1990.000000</td>\n",
              "      <td>43.000000</td>\n",
              "      <td>0.000000</td>\n",
              "      <td>103.000000</td>\n",
              "      <td>1500.945550</td>\n",
              "      <td>1500.954400</td>\n",
              "      <td>42.113357</td>\n",
              "      <td>103.000000</td>\n",
              "      <td>1500.945550</td>\n",
              "      <td>1500.954400</td>\n",
              "      <td>0.500000</td>\n",
              "    </tr>\n",
              "    <tr>\n",
              "      <th>75%</th>\n",
              "      <td>47368.000000</td>\n",
              "      <td>1.000000</td>\n",
              "      <td>2003.000000</td>\n",
              "      <td>65.000000</td>\n",
              "      <td>0.000000</td>\n",
              "      <td>112.000000</td>\n",
              "      <td>1576.060000</td>\n",
              "      <td>1576.291625</td>\n",
              "      <td>49.635328</td>\n",
              "      <td>112.000000</td>\n",
              "      <td>1576.060000</td>\n",
              "      <td>1576.291625</td>\n",
              "      <td>0.672011</td>\n",
              "    </tr>\n",
              "    <tr>\n",
              "      <th>max</th>\n",
              "      <td>63157.000000</td>\n",
              "      <td>1.000000</td>\n",
              "      <td>2015.000000</td>\n",
              "      <td>108.000000</td>\n",
              "      <td>1.000000</td>\n",
              "      <td>186.000000</td>\n",
              "      <td>1853.104500</td>\n",
              "      <td>1853.104500</td>\n",
              "      <td>71.112038</td>\n",
              "      <td>186.000000</td>\n",
              "      <td>1853.104500</td>\n",
              "      <td>1853.104500</td>\n",
              "      <td>0.979553</td>\n",
              "    </tr>\n",
              "  </tbody>\n",
              "</table>\n",
              "</div>"
            ],
            "text/plain": [
              "           gameorder        _iscopy  ...      opp_elo_n       forecast\n",
              "count  126314.000000  126314.000000  ...  126314.000000  126314.000000\n",
              "mean    31579.000000       0.500000  ...    1495.236055       0.500000\n",
              "std     18231.927643       0.500002  ...     112.461687       0.215252\n",
              "min         1.000000       0.000000  ...    1085.774400       0.020447\n",
              "25%     15790.000000       0.000000  ...    1416.994900       0.327989\n",
              "50%     31579.000000       0.500000  ...    1500.954400       0.500000\n",
              "75%     47368.000000       1.000000  ...    1576.291625       0.672011\n",
              "max     63157.000000       1.000000  ...    1853.104500       0.979553\n",
              "\n",
              "[8 rows x 13 columns]"
            ]
          },
          "metadata": {
            "tags": []
          },
          "execution_count": 10
        }
      ]
    },
    {
      "cell_type": "markdown",
      "metadata": {
        "id": "AYokZuRpPAn7"
      },
      "source": [
        ".describe() hanya menganalisis kolom numerik secara default, tetapi Anda dapat menyediakan tipe data lain jika menggunakan include parameter:"
      ]
    },
    {
      "cell_type": "code",
      "metadata": {
        "colab": {
          "base_uri": "https://localhost:8080/",
          "height": 456
        },
        "id": "DkN9dt-eOwJr",
        "outputId": "7d14b501-0441-4465-90c9-bfd185c33f97"
      },
      "source": [
        "nba.describe(include='all') "
      ],
      "execution_count": 11,
      "outputs": [
        {
          "output_type": "execute_result",
          "data": {
            "text/html": [
              "<div>\n",
              "<style scoped>\n",
              "    .dataframe tbody tr th:only-of-type {\n",
              "        vertical-align: middle;\n",
              "    }\n",
              "\n",
              "    .dataframe tbody tr th {\n",
              "        vertical-align: top;\n",
              "    }\n",
              "\n",
              "    .dataframe thead th {\n",
              "        text-align: right;\n",
              "    }\n",
              "</style>\n",
              "<table border=\"1\" class=\"dataframe\">\n",
              "  <thead>\n",
              "    <tr style=\"text-align: right;\">\n",
              "      <th></th>\n",
              "      <th>gameorder</th>\n",
              "      <th>game_id</th>\n",
              "      <th>lg_id</th>\n",
              "      <th>_iscopy</th>\n",
              "      <th>year_id</th>\n",
              "      <th>date_game</th>\n",
              "      <th>seasongame</th>\n",
              "      <th>is_playoffs</th>\n",
              "      <th>team_id</th>\n",
              "      <th>fran_id</th>\n",
              "      <th>pts</th>\n",
              "      <th>elo_i</th>\n",
              "      <th>elo_n</th>\n",
              "      <th>win_equiv</th>\n",
              "      <th>opp_id</th>\n",
              "      <th>opp_fran</th>\n",
              "      <th>opp_pts</th>\n",
              "      <th>opp_elo_i</th>\n",
              "      <th>opp_elo_n</th>\n",
              "      <th>game_location</th>\n",
              "      <th>game_result</th>\n",
              "      <th>forecast</th>\n",
              "      <th>notes</th>\n",
              "    </tr>\n",
              "  </thead>\n",
              "  <tbody>\n",
              "    <tr>\n",
              "      <th>count</th>\n",
              "      <td>126314.000000</td>\n",
              "      <td>126314</td>\n",
              "      <td>126314</td>\n",
              "      <td>126314.000000</td>\n",
              "      <td>126314.000000</td>\n",
              "      <td>126314</td>\n",
              "      <td>126314.000000</td>\n",
              "      <td>126314.000000</td>\n",
              "      <td>126314</td>\n",
              "      <td>126314</td>\n",
              "      <td>126314.000000</td>\n",
              "      <td>126314.000000</td>\n",
              "      <td>126314.000000</td>\n",
              "      <td>126314.000000</td>\n",
              "      <td>126314</td>\n",
              "      <td>126314</td>\n",
              "      <td>126314.000000</td>\n",
              "      <td>126314.000000</td>\n",
              "      <td>126314.000000</td>\n",
              "      <td>126314</td>\n",
              "      <td>126314</td>\n",
              "      <td>126314.000000</td>\n",
              "      <td>5424</td>\n",
              "    </tr>\n",
              "    <tr>\n",
              "      <th>unique</th>\n",
              "      <td>NaN</td>\n",
              "      <td>63157</td>\n",
              "      <td>2</td>\n",
              "      <td>NaN</td>\n",
              "      <td>NaN</td>\n",
              "      <td>12426</td>\n",
              "      <td>NaN</td>\n",
              "      <td>NaN</td>\n",
              "      <td>104</td>\n",
              "      <td>53</td>\n",
              "      <td>NaN</td>\n",
              "      <td>NaN</td>\n",
              "      <td>NaN</td>\n",
              "      <td>NaN</td>\n",
              "      <td>104</td>\n",
              "      <td>53</td>\n",
              "      <td>NaN</td>\n",
              "      <td>NaN</td>\n",
              "      <td>NaN</td>\n",
              "      <td>3</td>\n",
              "      <td>2</td>\n",
              "      <td>NaN</td>\n",
              "      <td>231</td>\n",
              "    </tr>\n",
              "    <tr>\n",
              "      <th>top</th>\n",
              "      <td>NaN</td>\n",
              "      <td>196904040SDR</td>\n",
              "      <td>NBA</td>\n",
              "      <td>NaN</td>\n",
              "      <td>NaN</td>\n",
              "      <td>4/13/2011</td>\n",
              "      <td>NaN</td>\n",
              "      <td>NaN</td>\n",
              "      <td>BOS</td>\n",
              "      <td>Lakers</td>\n",
              "      <td>NaN</td>\n",
              "      <td>NaN</td>\n",
              "      <td>NaN</td>\n",
              "      <td>NaN</td>\n",
              "      <td>BOS</td>\n",
              "      <td>Lakers</td>\n",
              "      <td>NaN</td>\n",
              "      <td>NaN</td>\n",
              "      <td>NaN</td>\n",
              "      <td>H</td>\n",
              "      <td>L</td>\n",
              "      <td>NaN</td>\n",
              "      <td>at New York NY</td>\n",
              "    </tr>\n",
              "    <tr>\n",
              "      <th>freq</th>\n",
              "      <td>NaN</td>\n",
              "      <td>2</td>\n",
              "      <td>118016</td>\n",
              "      <td>NaN</td>\n",
              "      <td>NaN</td>\n",
              "      <td>30</td>\n",
              "      <td>NaN</td>\n",
              "      <td>NaN</td>\n",
              "      <td>5997</td>\n",
              "      <td>6024</td>\n",
              "      <td>NaN</td>\n",
              "      <td>NaN</td>\n",
              "      <td>NaN</td>\n",
              "      <td>NaN</td>\n",
              "      <td>5997</td>\n",
              "      <td>6024</td>\n",
              "      <td>NaN</td>\n",
              "      <td>NaN</td>\n",
              "      <td>NaN</td>\n",
              "      <td>63138</td>\n",
              "      <td>63157</td>\n",
              "      <td>NaN</td>\n",
              "      <td>440</td>\n",
              "    </tr>\n",
              "    <tr>\n",
              "      <th>mean</th>\n",
              "      <td>31579.000000</td>\n",
              "      <td>NaN</td>\n",
              "      <td>NaN</td>\n",
              "      <td>0.500000</td>\n",
              "      <td>1988.200374</td>\n",
              "      <td>NaN</td>\n",
              "      <td>43.533733</td>\n",
              "      <td>0.063857</td>\n",
              "      <td>NaN</td>\n",
              "      <td>NaN</td>\n",
              "      <td>102.729982</td>\n",
              "      <td>1495.236055</td>\n",
              "      <td>1495.236055</td>\n",
              "      <td>41.707889</td>\n",
              "      <td>NaN</td>\n",
              "      <td>NaN</td>\n",
              "      <td>102.729982</td>\n",
              "      <td>1495.236055</td>\n",
              "      <td>1495.236055</td>\n",
              "      <td>NaN</td>\n",
              "      <td>NaN</td>\n",
              "      <td>0.500000</td>\n",
              "      <td>NaN</td>\n",
              "    </tr>\n",
              "    <tr>\n",
              "      <th>std</th>\n",
              "      <td>18231.927643</td>\n",
              "      <td>NaN</td>\n",
              "      <td>NaN</td>\n",
              "      <td>0.500002</td>\n",
              "      <td>17.582309</td>\n",
              "      <td>NaN</td>\n",
              "      <td>25.375178</td>\n",
              "      <td>0.244499</td>\n",
              "      <td>NaN</td>\n",
              "      <td>NaN</td>\n",
              "      <td>14.814845</td>\n",
              "      <td>112.139945</td>\n",
              "      <td>112.461687</td>\n",
              "      <td>10.627332</td>\n",
              "      <td>NaN</td>\n",
              "      <td>NaN</td>\n",
              "      <td>14.814845</td>\n",
              "      <td>112.139945</td>\n",
              "      <td>112.461687</td>\n",
              "      <td>NaN</td>\n",
              "      <td>NaN</td>\n",
              "      <td>0.215252</td>\n",
              "      <td>NaN</td>\n",
              "    </tr>\n",
              "    <tr>\n",
              "      <th>min</th>\n",
              "      <td>1.000000</td>\n",
              "      <td>NaN</td>\n",
              "      <td>NaN</td>\n",
              "      <td>0.000000</td>\n",
              "      <td>1947.000000</td>\n",
              "      <td>NaN</td>\n",
              "      <td>1.000000</td>\n",
              "      <td>0.000000</td>\n",
              "      <td>NaN</td>\n",
              "      <td>NaN</td>\n",
              "      <td>0.000000</td>\n",
              "      <td>1091.644500</td>\n",
              "      <td>1085.774400</td>\n",
              "      <td>10.152501</td>\n",
              "      <td>NaN</td>\n",
              "      <td>NaN</td>\n",
              "      <td>0.000000</td>\n",
              "      <td>1091.644500</td>\n",
              "      <td>1085.774400</td>\n",
              "      <td>NaN</td>\n",
              "      <td>NaN</td>\n",
              "      <td>0.020447</td>\n",
              "      <td>NaN</td>\n",
              "    </tr>\n",
              "    <tr>\n",
              "      <th>25%</th>\n",
              "      <td>15790.000000</td>\n",
              "      <td>NaN</td>\n",
              "      <td>NaN</td>\n",
              "      <td>0.000000</td>\n",
              "      <td>1975.000000</td>\n",
              "      <td>NaN</td>\n",
              "      <td>22.000000</td>\n",
              "      <td>0.000000</td>\n",
              "      <td>NaN</td>\n",
              "      <td>NaN</td>\n",
              "      <td>93.000000</td>\n",
              "      <td>1417.237975</td>\n",
              "      <td>1416.994900</td>\n",
              "      <td>34.103035</td>\n",
              "      <td>NaN</td>\n",
              "      <td>NaN</td>\n",
              "      <td>93.000000</td>\n",
              "      <td>1417.237975</td>\n",
              "      <td>1416.994900</td>\n",
              "      <td>NaN</td>\n",
              "      <td>NaN</td>\n",
              "      <td>0.327989</td>\n",
              "      <td>NaN</td>\n",
              "    </tr>\n",
              "    <tr>\n",
              "      <th>50%</th>\n",
              "      <td>31579.000000</td>\n",
              "      <td>NaN</td>\n",
              "      <td>NaN</td>\n",
              "      <td>0.500000</td>\n",
              "      <td>1990.000000</td>\n",
              "      <td>NaN</td>\n",
              "      <td>43.000000</td>\n",
              "      <td>0.000000</td>\n",
              "      <td>NaN</td>\n",
              "      <td>NaN</td>\n",
              "      <td>103.000000</td>\n",
              "      <td>1500.945550</td>\n",
              "      <td>1500.954400</td>\n",
              "      <td>42.113357</td>\n",
              "      <td>NaN</td>\n",
              "      <td>NaN</td>\n",
              "      <td>103.000000</td>\n",
              "      <td>1500.945550</td>\n",
              "      <td>1500.954400</td>\n",
              "      <td>NaN</td>\n",
              "      <td>NaN</td>\n",
              "      <td>0.500000</td>\n",
              "      <td>NaN</td>\n",
              "    </tr>\n",
              "    <tr>\n",
              "      <th>75%</th>\n",
              "      <td>47368.000000</td>\n",
              "      <td>NaN</td>\n",
              "      <td>NaN</td>\n",
              "      <td>1.000000</td>\n",
              "      <td>2003.000000</td>\n",
              "      <td>NaN</td>\n",
              "      <td>65.000000</td>\n",
              "      <td>0.000000</td>\n",
              "      <td>NaN</td>\n",
              "      <td>NaN</td>\n",
              "      <td>112.000000</td>\n",
              "      <td>1576.060000</td>\n",
              "      <td>1576.291625</td>\n",
              "      <td>49.635328</td>\n",
              "      <td>NaN</td>\n",
              "      <td>NaN</td>\n",
              "      <td>112.000000</td>\n",
              "      <td>1576.060000</td>\n",
              "      <td>1576.291625</td>\n",
              "      <td>NaN</td>\n",
              "      <td>NaN</td>\n",
              "      <td>0.672011</td>\n",
              "      <td>NaN</td>\n",
              "    </tr>\n",
              "    <tr>\n",
              "      <th>max</th>\n",
              "      <td>63157.000000</td>\n",
              "      <td>NaN</td>\n",
              "      <td>NaN</td>\n",
              "      <td>1.000000</td>\n",
              "      <td>2015.000000</td>\n",
              "      <td>NaN</td>\n",
              "      <td>108.000000</td>\n",
              "      <td>1.000000</td>\n",
              "      <td>NaN</td>\n",
              "      <td>NaN</td>\n",
              "      <td>186.000000</td>\n",
              "      <td>1853.104500</td>\n",
              "      <td>1853.104500</td>\n",
              "      <td>71.112038</td>\n",
              "      <td>NaN</td>\n",
              "      <td>NaN</td>\n",
              "      <td>186.000000</td>\n",
              "      <td>1853.104500</td>\n",
              "      <td>1853.104500</td>\n",
              "      <td>NaN</td>\n",
              "      <td>NaN</td>\n",
              "      <td>0.979553</td>\n",
              "      <td>NaN</td>\n",
              "    </tr>\n",
              "  </tbody>\n",
              "</table>\n",
              "</div>"
            ],
            "text/plain": [
              "            gameorder       game_id  ...       forecast           notes\n",
              "count   126314.000000        126314  ...  126314.000000            5424\n",
              "unique            NaN         63157  ...            NaN             231\n",
              "top               NaN  196904040SDR  ...            NaN  at New York NY\n",
              "freq              NaN             2  ...            NaN             440\n",
              "mean     31579.000000           NaN  ...       0.500000             NaN\n",
              "std      18231.927643           NaN  ...       0.215252             NaN\n",
              "min          1.000000           NaN  ...       0.020447             NaN\n",
              "25%      15790.000000           NaN  ...       0.327989             NaN\n",
              "50%      31579.000000           NaN  ...       0.500000             NaN\n",
              "75%      47368.000000           NaN  ...       0.672011             NaN\n",
              "max      63157.000000           NaN  ...       0.979553             NaN\n",
              "\n",
              "[11 rows x 23 columns]"
            ]
          },
          "metadata": {
            "tags": []
          },
          "execution_count": 11
        }
      ]
    },
    {
      "cell_type": "code",
      "metadata": {
        "colab": {
          "base_uri": "https://localhost:8080/",
          "height": 171
        },
        "id": "R_QyaMTjPNjG",
        "outputId": "e57a8ac7-bcbf-4b45-ad72-be831256ab85"
      },
      "source": [
        "nba.describe(include=[object]) "
      ],
      "execution_count": 12,
      "outputs": [
        {
          "output_type": "execute_result",
          "data": {
            "text/html": [
              "<div>\n",
              "<style scoped>\n",
              "    .dataframe tbody tr th:only-of-type {\n",
              "        vertical-align: middle;\n",
              "    }\n",
              "\n",
              "    .dataframe tbody tr th {\n",
              "        vertical-align: top;\n",
              "    }\n",
              "\n",
              "    .dataframe thead th {\n",
              "        text-align: right;\n",
              "    }\n",
              "</style>\n",
              "<table border=\"1\" class=\"dataframe\">\n",
              "  <thead>\n",
              "    <tr style=\"text-align: right;\">\n",
              "      <th></th>\n",
              "      <th>game_id</th>\n",
              "      <th>lg_id</th>\n",
              "      <th>date_game</th>\n",
              "      <th>team_id</th>\n",
              "      <th>fran_id</th>\n",
              "      <th>opp_id</th>\n",
              "      <th>opp_fran</th>\n",
              "      <th>game_location</th>\n",
              "      <th>game_result</th>\n",
              "      <th>notes</th>\n",
              "    </tr>\n",
              "  </thead>\n",
              "  <tbody>\n",
              "    <tr>\n",
              "      <th>count</th>\n",
              "      <td>126314</td>\n",
              "      <td>126314</td>\n",
              "      <td>126314</td>\n",
              "      <td>126314</td>\n",
              "      <td>126314</td>\n",
              "      <td>126314</td>\n",
              "      <td>126314</td>\n",
              "      <td>126314</td>\n",
              "      <td>126314</td>\n",
              "      <td>5424</td>\n",
              "    </tr>\n",
              "    <tr>\n",
              "      <th>unique</th>\n",
              "      <td>63157</td>\n",
              "      <td>2</td>\n",
              "      <td>12426</td>\n",
              "      <td>104</td>\n",
              "      <td>53</td>\n",
              "      <td>104</td>\n",
              "      <td>53</td>\n",
              "      <td>3</td>\n",
              "      <td>2</td>\n",
              "      <td>231</td>\n",
              "    </tr>\n",
              "    <tr>\n",
              "      <th>top</th>\n",
              "      <td>196904040SDR</td>\n",
              "      <td>NBA</td>\n",
              "      <td>4/13/2011</td>\n",
              "      <td>BOS</td>\n",
              "      <td>Lakers</td>\n",
              "      <td>BOS</td>\n",
              "      <td>Lakers</td>\n",
              "      <td>H</td>\n",
              "      <td>L</td>\n",
              "      <td>at New York NY</td>\n",
              "    </tr>\n",
              "    <tr>\n",
              "      <th>freq</th>\n",
              "      <td>2</td>\n",
              "      <td>118016</td>\n",
              "      <td>30</td>\n",
              "      <td>5997</td>\n",
              "      <td>6024</td>\n",
              "      <td>5997</td>\n",
              "      <td>6024</td>\n",
              "      <td>63138</td>\n",
              "      <td>63157</td>\n",
              "      <td>440</td>\n",
              "    </tr>\n",
              "  </tbody>\n",
              "</table>\n",
              "</div>"
            ],
            "text/plain": [
              "             game_id   lg_id  ... game_result           notes\n",
              "count         126314  126314  ...      126314            5424\n",
              "unique         63157       2  ...           2             231\n",
              "top     196904040SDR     NBA  ...           L  at New York NY\n",
              "freq               2  118016  ...       63157             440\n",
              "\n",
              "[4 rows x 10 columns]"
            ]
          },
          "metadata": {
            "tags": []
          },
          "execution_count": 12
        }
      ]
    },
    {
      "cell_type": "code",
      "metadata": {
        "colab": {
          "base_uri": "https://localhost:8080/",
          "height": 293
        },
        "id": "nyKoL7M9Pa_l",
        "outputId": "215c8ca8-3e3a-4718-d639-85d2e9e59de1"
      },
      "source": [
        "nba.describe(include=[np.number])"
      ],
      "execution_count": 13,
      "outputs": [
        {
          "output_type": "execute_result",
          "data": {
            "text/html": [
              "<div>\n",
              "<style scoped>\n",
              "    .dataframe tbody tr th:only-of-type {\n",
              "        vertical-align: middle;\n",
              "    }\n",
              "\n",
              "    .dataframe tbody tr th {\n",
              "        vertical-align: top;\n",
              "    }\n",
              "\n",
              "    .dataframe thead th {\n",
              "        text-align: right;\n",
              "    }\n",
              "</style>\n",
              "<table border=\"1\" class=\"dataframe\">\n",
              "  <thead>\n",
              "    <tr style=\"text-align: right;\">\n",
              "      <th></th>\n",
              "      <th>gameorder</th>\n",
              "      <th>_iscopy</th>\n",
              "      <th>year_id</th>\n",
              "      <th>seasongame</th>\n",
              "      <th>is_playoffs</th>\n",
              "      <th>pts</th>\n",
              "      <th>elo_i</th>\n",
              "      <th>elo_n</th>\n",
              "      <th>win_equiv</th>\n",
              "      <th>opp_pts</th>\n",
              "      <th>opp_elo_i</th>\n",
              "      <th>opp_elo_n</th>\n",
              "      <th>forecast</th>\n",
              "    </tr>\n",
              "  </thead>\n",
              "  <tbody>\n",
              "    <tr>\n",
              "      <th>count</th>\n",
              "      <td>126314.000000</td>\n",
              "      <td>126314.000000</td>\n",
              "      <td>126314.000000</td>\n",
              "      <td>126314.000000</td>\n",
              "      <td>126314.000000</td>\n",
              "      <td>126314.000000</td>\n",
              "      <td>126314.000000</td>\n",
              "      <td>126314.000000</td>\n",
              "      <td>126314.000000</td>\n",
              "      <td>126314.000000</td>\n",
              "      <td>126314.000000</td>\n",
              "      <td>126314.000000</td>\n",
              "      <td>126314.000000</td>\n",
              "    </tr>\n",
              "    <tr>\n",
              "      <th>mean</th>\n",
              "      <td>31579.000000</td>\n",
              "      <td>0.500000</td>\n",
              "      <td>1988.200374</td>\n",
              "      <td>43.533733</td>\n",
              "      <td>0.063857</td>\n",
              "      <td>102.729982</td>\n",
              "      <td>1495.236055</td>\n",
              "      <td>1495.236055</td>\n",
              "      <td>41.707889</td>\n",
              "      <td>102.729982</td>\n",
              "      <td>1495.236055</td>\n",
              "      <td>1495.236055</td>\n",
              "      <td>0.500000</td>\n",
              "    </tr>\n",
              "    <tr>\n",
              "      <th>std</th>\n",
              "      <td>18231.927643</td>\n",
              "      <td>0.500002</td>\n",
              "      <td>17.582309</td>\n",
              "      <td>25.375178</td>\n",
              "      <td>0.244499</td>\n",
              "      <td>14.814845</td>\n",
              "      <td>112.139945</td>\n",
              "      <td>112.461687</td>\n",
              "      <td>10.627332</td>\n",
              "      <td>14.814845</td>\n",
              "      <td>112.139945</td>\n",
              "      <td>112.461687</td>\n",
              "      <td>0.215252</td>\n",
              "    </tr>\n",
              "    <tr>\n",
              "      <th>min</th>\n",
              "      <td>1.000000</td>\n",
              "      <td>0.000000</td>\n",
              "      <td>1947.000000</td>\n",
              "      <td>1.000000</td>\n",
              "      <td>0.000000</td>\n",
              "      <td>0.000000</td>\n",
              "      <td>1091.644500</td>\n",
              "      <td>1085.774400</td>\n",
              "      <td>10.152501</td>\n",
              "      <td>0.000000</td>\n",
              "      <td>1091.644500</td>\n",
              "      <td>1085.774400</td>\n",
              "      <td>0.020447</td>\n",
              "    </tr>\n",
              "    <tr>\n",
              "      <th>25%</th>\n",
              "      <td>15790.000000</td>\n",
              "      <td>0.000000</td>\n",
              "      <td>1975.000000</td>\n",
              "      <td>22.000000</td>\n",
              "      <td>0.000000</td>\n",
              "      <td>93.000000</td>\n",
              "      <td>1417.237975</td>\n",
              "      <td>1416.994900</td>\n",
              "      <td>34.103035</td>\n",
              "      <td>93.000000</td>\n",
              "      <td>1417.237975</td>\n",
              "      <td>1416.994900</td>\n",
              "      <td>0.327989</td>\n",
              "    </tr>\n",
              "    <tr>\n",
              "      <th>50%</th>\n",
              "      <td>31579.000000</td>\n",
              "      <td>0.500000</td>\n",
              "      <td>1990.000000</td>\n",
              "      <td>43.000000</td>\n",
              "      <td>0.000000</td>\n",
              "      <td>103.000000</td>\n",
              "      <td>1500.945550</td>\n",
              "      <td>1500.954400</td>\n",
              "      <td>42.113357</td>\n",
              "      <td>103.000000</td>\n",
              "      <td>1500.945550</td>\n",
              "      <td>1500.954400</td>\n",
              "      <td>0.500000</td>\n",
              "    </tr>\n",
              "    <tr>\n",
              "      <th>75%</th>\n",
              "      <td>47368.000000</td>\n",
              "      <td>1.000000</td>\n",
              "      <td>2003.000000</td>\n",
              "      <td>65.000000</td>\n",
              "      <td>0.000000</td>\n",
              "      <td>112.000000</td>\n",
              "      <td>1576.060000</td>\n",
              "      <td>1576.291625</td>\n",
              "      <td>49.635328</td>\n",
              "      <td>112.000000</td>\n",
              "      <td>1576.060000</td>\n",
              "      <td>1576.291625</td>\n",
              "      <td>0.672011</td>\n",
              "    </tr>\n",
              "    <tr>\n",
              "      <th>max</th>\n",
              "      <td>63157.000000</td>\n",
              "      <td>1.000000</td>\n",
              "      <td>2015.000000</td>\n",
              "      <td>108.000000</td>\n",
              "      <td>1.000000</td>\n",
              "      <td>186.000000</td>\n",
              "      <td>1853.104500</td>\n",
              "      <td>1853.104500</td>\n",
              "      <td>71.112038</td>\n",
              "      <td>186.000000</td>\n",
              "      <td>1853.104500</td>\n",
              "      <td>1853.104500</td>\n",
              "      <td>0.979553</td>\n",
              "    </tr>\n",
              "  </tbody>\n",
              "</table>\n",
              "</div>"
            ],
            "text/plain": [
              "           gameorder        _iscopy  ...      opp_elo_n       forecast\n",
              "count  126314.000000  126314.000000  ...  126314.000000  126314.000000\n",
              "mean    31579.000000       0.500000  ...    1495.236055       0.500000\n",
              "std     18231.927643       0.500002  ...     112.461687       0.215252\n",
              "min         1.000000       0.000000  ...    1085.774400       0.020447\n",
              "25%     15790.000000       0.000000  ...    1416.994900       0.327989\n",
              "50%     31579.000000       0.500000  ...    1500.954400       0.500000\n",
              "75%     47368.000000       1.000000  ...    1576.291625       0.672011\n",
              "max     63157.000000       1.000000  ...    1853.104500       0.979553\n",
              "\n",
              "[8 rows x 13 columns]"
            ]
          },
          "metadata": {
            "tags": []
          },
          "execution_count": 13
        }
      ]
    },
    {
      "cell_type": "code",
      "metadata": {
        "colab": {
          "base_uri": "https://localhost:8080/",
          "height": 171
        },
        "id": "y1WKCSc9QOP4",
        "outputId": "37f0fcfc-8c29-4be9-a043-442cee6135b5"
      },
      "source": [
        "#menggunakan exclude\n",
        "nba.describe(exclude=[np.number]) "
      ],
      "execution_count": 14,
      "outputs": [
        {
          "output_type": "execute_result",
          "data": {
            "text/html": [
              "<div>\n",
              "<style scoped>\n",
              "    .dataframe tbody tr th:only-of-type {\n",
              "        vertical-align: middle;\n",
              "    }\n",
              "\n",
              "    .dataframe tbody tr th {\n",
              "        vertical-align: top;\n",
              "    }\n",
              "\n",
              "    .dataframe thead th {\n",
              "        text-align: right;\n",
              "    }\n",
              "</style>\n",
              "<table border=\"1\" class=\"dataframe\">\n",
              "  <thead>\n",
              "    <tr style=\"text-align: right;\">\n",
              "      <th></th>\n",
              "      <th>game_id</th>\n",
              "      <th>lg_id</th>\n",
              "      <th>date_game</th>\n",
              "      <th>team_id</th>\n",
              "      <th>fran_id</th>\n",
              "      <th>opp_id</th>\n",
              "      <th>opp_fran</th>\n",
              "      <th>game_location</th>\n",
              "      <th>game_result</th>\n",
              "      <th>notes</th>\n",
              "    </tr>\n",
              "  </thead>\n",
              "  <tbody>\n",
              "    <tr>\n",
              "      <th>count</th>\n",
              "      <td>126314</td>\n",
              "      <td>126314</td>\n",
              "      <td>126314</td>\n",
              "      <td>126314</td>\n",
              "      <td>126314</td>\n",
              "      <td>126314</td>\n",
              "      <td>126314</td>\n",
              "      <td>126314</td>\n",
              "      <td>126314</td>\n",
              "      <td>5424</td>\n",
              "    </tr>\n",
              "    <tr>\n",
              "      <th>unique</th>\n",
              "      <td>63157</td>\n",
              "      <td>2</td>\n",
              "      <td>12426</td>\n",
              "      <td>104</td>\n",
              "      <td>53</td>\n",
              "      <td>104</td>\n",
              "      <td>53</td>\n",
              "      <td>3</td>\n",
              "      <td>2</td>\n",
              "      <td>231</td>\n",
              "    </tr>\n",
              "    <tr>\n",
              "      <th>top</th>\n",
              "      <td>196904040SDR</td>\n",
              "      <td>NBA</td>\n",
              "      <td>4/13/2011</td>\n",
              "      <td>BOS</td>\n",
              "      <td>Lakers</td>\n",
              "      <td>BOS</td>\n",
              "      <td>Lakers</td>\n",
              "      <td>H</td>\n",
              "      <td>L</td>\n",
              "      <td>at New York NY</td>\n",
              "    </tr>\n",
              "    <tr>\n",
              "      <th>freq</th>\n",
              "      <td>2</td>\n",
              "      <td>118016</td>\n",
              "      <td>30</td>\n",
              "      <td>5997</td>\n",
              "      <td>6024</td>\n",
              "      <td>5997</td>\n",
              "      <td>6024</td>\n",
              "      <td>63138</td>\n",
              "      <td>63157</td>\n",
              "      <td>440</td>\n",
              "    </tr>\n",
              "  </tbody>\n",
              "</table>\n",
              "</div>"
            ],
            "text/plain": [
              "             game_id   lg_id  ... game_result           notes\n",
              "count         126314  126314  ...      126314            5424\n",
              "unique         63157       2  ...           2             231\n",
              "top     196904040SDR     NBA  ...           L  at New York NY\n",
              "freq               2  118016  ...       63157             440\n",
              "\n",
              "[4 rows x 10 columns]"
            ]
          },
          "metadata": {
            "tags": []
          },
          "execution_count": 14
        }
      ]
    },
    {
      "cell_type": "markdown",
      "metadata": {
        "id": "qWuovGGsQYj9"
      },
      "source": [
        "#Menjelajahi Kumpulan Data Anda\n",
        "Exploratory data analysis dapat membantu Anda menjawab pertanyaan tentang kumpulan data Anda. Misalnya, Anda dapat memeriksa seberapa sering nilai tertentu muncul dalam kolom:"
      ]
    },
    {
      "cell_type": "code",
      "metadata": {
        "colab": {
          "base_uri": "https://localhost:8080/"
        },
        "id": "ZuDJogsrQU61",
        "outputId": "38ff39b2-bae7-4cdb-a656-3a7a58f5f435"
      },
      "source": [
        "nba[\"team_id\"].value_counts()"
      ],
      "execution_count": 15,
      "outputs": [
        {
          "output_type": "execute_result",
          "data": {
            "text/plain": [
              "BOS    5997\n",
              "NYK    5769\n",
              "LAL    5078\n",
              "DET    4985\n",
              "PHI    4533\n",
              "       ... \n",
              "PIT      60\n",
              "DTF      60\n",
              "TRH      60\n",
              "INJ      60\n",
              "SDS      11\n",
              "Name: team_id, Length: 104, dtype: int64"
            ]
          },
          "metadata": {
            "tags": []
          },
          "execution_count": 15
        }
      ]
    },
    {
      "cell_type": "code",
      "metadata": {
        "colab": {
          "base_uri": "https://localhost:8080/"
        },
        "id": "auDnxKYZQxqB",
        "outputId": "f2ff8b0d-a00f-4284-ca54-4b90145f0da5"
      },
      "source": [
        " nba[\"fran_id\"].value_counts()"
      ],
      "execution_count": 16,
      "outputs": [
        {
          "output_type": "execute_result",
          "data": {
            "text/plain": [
              "Lakers          6024\n",
              "Celtics         5997\n",
              "Knicks          5769\n",
              "Warriors        5657\n",
              "Pistons         5650\n",
              "Sixers          5644\n",
              "Hawks           5572\n",
              "Kings           5475\n",
              "Wizards         4582\n",
              "Spurs           4309\n",
              "Bulls           4307\n",
              "Pacers          4227\n",
              "Thunder         4178\n",
              "Rockets         4154\n",
              "Nuggets         4120\n",
              "Nets            4106\n",
              "Suns            4080\n",
              "Bucks           4034\n",
              "Trailblazers    3870\n",
              "Cavaliers       3810\n",
              "Clippers        3733\n",
              "Jazz            3555\n",
              "Mavericks       3013\n",
              "Heat            2371\n",
              "Pelicans        2254\n",
              "Magic           2207\n",
              "Timberwolves    2131\n",
              "Grizzlies       1657\n",
              "Raptors         1634\n",
              "Hornets          894\n",
              "Colonels         846\n",
              "Squires          799\n",
              "Spirits          777\n",
              "Stars            756\n",
              "Sounds           697\n",
              "Baltimore        467\n",
              "Floridians       440\n",
              "Condors          430\n",
              "Capitols         291\n",
              "Olympians        282\n",
              "Sails            274\n",
              "Stags            260\n",
              "Bombers          249\n",
              "Steamrollers     168\n",
              "Packers           72\n",
              "Redskins          65\n",
              "Rebels            63\n",
              "Denver            62\n",
              "Waterloo          62\n",
              "Falcons           60\n",
              "Ironmen           60\n",
              "Huskies           60\n",
              "Jets              60\n",
              "Name: fran_id, dtype: int64"
            ]
          },
          "metadata": {
            "tags": []
          },
          "execution_count": 16
        }
      ]
    },
    {
      "cell_type": "markdown",
      "metadata": {
        "id": "0mpkYJPzQ5-U"
      },
      "source": [
        "Tampaknya sebuah tim bernama \"Lakers\"memainkan 6024 pertandingan, tetapi hanya 5078 di antaranya yang dimainkan oleh Los Angeles Lakers. Cari tahu siapa \"Lakers\"tim lainnya :"
      ]
    },
    {
      "cell_type": "code",
      "metadata": {
        "colab": {
          "base_uri": "https://localhost:8080/"
        },
        "id": "uZHJ-fgaQ6oa",
        "outputId": "9a779998-bd41-46f2-d66e-b2a9c64e315a"
      },
      "source": [
        "nba.loc[nba[\"fran_id\"] == \"Lakers\", \"team_id\"].value_counts()"
      ],
      "execution_count": 17,
      "outputs": [
        {
          "output_type": "execute_result",
          "data": {
            "text/plain": [
              "LAL    5078\n",
              "MNL     946\n",
              "Name: team_id, dtype: int64"
            ]
          },
          "metadata": {
            "tags": []
          },
          "execution_count": 17
        }
      ]
    },
    {
      "cell_type": "markdown",
      "metadata": {
        "id": "H1ZTfkczRNOQ"
      },
      "source": [
        "Minneapolis Lakers ( \"MNL\") memainkan 946 pertandingan. Anda bahkan dapat mengetahui kapan mereka memainkan game-game itu. Untuk itu, pertama-tama Anda akan menentukan kolom yang mengonversi nilai date_game ke datetimetipe data. Kemudian Anda dapat menggunakan fungsi agregat min dan max, untuk menemukan game pertama dan terakhir dari Minneapolis Lakers:"
      ]
    },
    {
      "cell_type": "code",
      "metadata": {
        "id": "C-a1iOTkRVIY"
      },
      "source": [
        "nba[\"date_played\"] = pd.to_datetime(nba[\"date_game\"])"
      ],
      "execution_count": 18,
      "outputs": []
    },
    {
      "cell_type": "code",
      "metadata": {
        "colab": {
          "base_uri": "https://localhost:8080/"
        },
        "id": "zsTKT2wpRYt0",
        "outputId": "4fb8e94f-94ab-4400-dc39-8652e4dcd77a"
      },
      "source": [
        "nba.loc[nba[\"team_id\"] == \"MNL\", \"date_played\"].min()"
      ],
      "execution_count": 19,
      "outputs": [
        {
          "output_type": "execute_result",
          "data": {
            "text/plain": [
              "Timestamp('1948-11-04 00:00:00')"
            ]
          },
          "metadata": {
            "tags": []
          },
          "execution_count": 19
        }
      ]
    },
    {
      "cell_type": "code",
      "metadata": {
        "colab": {
          "base_uri": "https://localhost:8080/"
        },
        "id": "pVCCL6fDRaZe",
        "outputId": "70025730-b4d0-4f3d-97a0-bb69dcb90021"
      },
      "source": [
        "nba.loc[nba['team_id'] == 'MNL', 'date_played'].max()"
      ],
      "execution_count": 20,
      "outputs": [
        {
          "output_type": "execute_result",
          "data": {
            "text/plain": [
              "Timestamp('1960-03-26 00:00:00')"
            ]
          },
          "metadata": {
            "tags": []
          },
          "execution_count": 20
        }
      ]
    },
    {
      "cell_type": "code",
      "metadata": {
        "colab": {
          "base_uri": "https://localhost:8080/"
        },
        "id": "h-lbENOiReB9",
        "outputId": "c5eaefac-bde5-4061-a360-c4cb77bff81d"
      },
      "source": [
        "nba.loc[nba[\"team_id\"] == \"MNL\", \"date_played\"].agg((\"min\", \"max\"))"
      ],
      "execution_count": 21,
      "outputs": [
        {
          "output_type": "execute_result",
          "data": {
            "text/plain": [
              "min   1948-11-04\n",
              "max   1960-03-26\n",
              "Name: date_played, dtype: datetime64[ns]"
            ]
          },
          "metadata": {
            "tags": []
          },
          "execution_count": 21
        }
      ]
    },
    {
      "cell_type": "markdown",
      "metadata": {
        "id": "ccFppevPRmq9"
      },
      "source": [
        "Sepertinya Minneapolis Lakers bermain antara tahun 1948 dan 1960. Itu menjelaskan mengapa Anda mungkin tidak mengenali tim ini!"
      ]
    },
    {
      "cell_type": "markdown",
      "metadata": {
        "id": "LmLPnpCwRy5A"
      },
      "source": [
        "Anda juga telah mengetahui mengapa tim Boston Celtics \"BOS\"memainkan game paling banyak dalam kumpulan data. Mari kita menganalisis sejarah mereka juga.Cari tahu berapa banyak poin yang telah dicetak Boston Celtics selama semua pertandingan yang terdapat dalam kumpulan data ini. Perluas blok kode di bawah ini untuk solusinya:"
      ]
    },
    {
      "cell_type": "code",
      "metadata": {
        "colab": {
          "base_uri": "https://localhost:8080/"
        },
        "id": "u33a86zvR2tu",
        "outputId": "80a3df5a-e920-4710-a4d8-f7b6ada1efd4"
      },
      "source": [
        " nba.loc[nba[\"team_id\"] == \"BOS\", \"pts\"].sum()"
      ],
      "execution_count": 22,
      "outputs": [
        {
          "output_type": "execute_result",
          "data": {
            "text/plain": [
              "626484"
            ]
          },
          "metadata": {
            "tags": []
          },
          "execution_count": 22
        }
      ]
    },
    {
      "cell_type": "markdown",
      "metadata": {
        "id": "xpNE22U4R9lE"
      },
      "source": [
        "Boston Celtics mencetak total 626.484 poin."
      ]
    },
    {
      "cell_type": "markdown",
      "metadata": {
        "id": "KbeVsD17SG6z"
      },
      "source": [
        "#Mengenal Struktur Data Pandas"
      ]
    },
    {
      "cell_type": "markdown",
      "metadata": {
        "id": "hoYb39LkSO_l"
      },
      "source": [
        "**Memahami Objek Series**\n",
        "\n",
        "Struktur data paling dasar Python adalah list , yang juga merupakan titik awal yang baik untuk mengenal pandas.Seriesobjek. Buat Objek Series baru berdasarkan list:"
      ]
    },
    {
      "cell_type": "code",
      "metadata": {
        "colab": {
          "base_uri": "https://localhost:8080/"
        },
        "id": "osP9REEjR_FC",
        "outputId": "a30e7a95-bef9-4e47-a8a8-119af4a23777"
      },
      "source": [
        "revenues = pd.Series([5555, 7000, 1980])\n",
        "revenues"
      ],
      "execution_count": 23,
      "outputs": [
        {
          "output_type": "execute_result",
          "data": {
            "text/plain": [
              "0    5555\n",
              "1    7000\n",
              "2    1980\n",
              "dtype: int64"
            ]
          },
          "metadata": {
            "tags": []
          },
          "execution_count": 23
        }
      ]
    },
    {
      "cell_type": "markdown",
      "metadata": {
        "id": "i1Np1RJnSvJo"
      },
      "source": [
        "Sebuah Series objek membungkus dua komponen:\n",
        "\n",
        "\n",
        "1.   A sequence of values (Urutan nilai)\n",
        "2.   A sequence of identifiers (unrutan pengidentifikasi/index)\n",
        "\n"
      ]
    },
    {
      "cell_type": "code",
      "metadata": {
        "colab": {
          "base_uri": "https://localhost:8080/"
        },
        "id": "yuJvN7R1TD_8",
        "outputId": "7b32ee79-68c8-44c3-ffcf-add5f4fca8fa"
      },
      "source": [
        "revenues.values"
      ],
      "execution_count": 24,
      "outputs": [
        {
          "output_type": "execute_result",
          "data": {
            "text/plain": [
              "array([5555, 7000, 1980])"
            ]
          },
          "metadata": {
            "tags": []
          },
          "execution_count": 24
        }
      ]
    },
    {
      "cell_type": "code",
      "metadata": {
        "colab": {
          "base_uri": "https://localhost:8080/"
        },
        "id": "5vek_VfoTFJA",
        "outputId": "483ec03e-dbf1-4895-9581-f298c3dab7e8"
      },
      "source": [
        "revenues.index"
      ],
      "execution_count": 25,
      "outputs": [
        {
          "output_type": "execute_result",
          "data": {
            "text/plain": [
              "RangeIndex(start=0, stop=3, step=1)"
            ]
          },
          "metadata": {
            "tags": []
          },
          "execution_count": 25
        }
      ]
    },
    {
      "cell_type": "markdown",
      "metadata": {
        "id": "VlFQfs-RTP0q"
      },
      "source": [
        "revenues.values mengembalikan nilai dalam Series, sedangkan revenues.index mengembalikan posisi indeks."
      ]
    },
    {
      "cell_type": "markdown",
      "metadata": {
        "id": "UfZxrGY3TU_G"
      },
      "source": [
        "Series juga dapat memiliki tipe indeks yang berubah-ubah. Anda dapat menganggap indeks eksplisit ini sebagai label untuk baris tertentu:"
      ]
    },
    {
      "cell_type": "code",
      "metadata": {
        "colab": {
          "base_uri": "https://localhost:8080/"
        },
        "id": "XRVGxGtGTfno",
        "outputId": "5aa487e4-82d5-43b0-cf4e-a3cd92397c7d"
      },
      "source": [
        "city_revenues = pd.Series(\n",
        "[4200, 8000, 6500],\n",
        "index=[\"Amsterdam\", \"Toronto\", \"Tokyo\"])\n",
        "\n",
        "city_revenues"
      ],
      "execution_count": 26,
      "outputs": [
        {
          "output_type": "execute_result",
          "data": {
            "text/plain": [
              "Amsterdam    4200\n",
              "Toronto      8000\n",
              "Tokyo        6500\n",
              "dtype: int64"
            ]
          },
          "metadata": {
            "tags": []
          },
          "execution_count": 26
        }
      ]
    },
    {
      "cell_type": "markdown",
      "metadata": {
        "id": "r7bzjwxtTxju"
      },
      "source": [
        "Di sini, indeks adalah list nama kota yang diwakili oleh string. Anda mungkin telah memperhatikan bahwa dictionary Python juga menggunakan indeks string, dan ini adalah analogi yang berguna untuk diingat! Anda dapat menggunakan blok kode di atas untuk membedakan antara dua jenis Series:\n",
        "- revenues: Series ini berperilaku seperti list Python karena hanya memiliki indeks posisi.\n",
        "- city_revenues: Series ini bertindak seperti dictionary Python karena menampilkan indeks posisi dan label."
      ]
    },
    {
      "cell_type": "markdown",
      "metadata": {
        "id": "KSy32iF5UOSj"
      },
      "source": [
        "Berikut cara membuat index Series dengan label dari kamus Python:"
      ]
    },
    {
      "cell_type": "code",
      "metadata": {
        "colab": {
          "base_uri": "https://localhost:8080/"
        },
        "id": "_NoY566yTwzP",
        "outputId": "bd9926c6-e849-4805-f57a-58c6af10091e"
      },
      "source": [
        "city_employee_count = pd.Series({\"Amsterdam\": 5, \"Tokyo\": 8})\n",
        "city_employee_count"
      ],
      "execution_count": 27,
      "outputs": [
        {
          "output_type": "execute_result",
          "data": {
            "text/plain": [
              "Amsterdam    5\n",
              "Tokyo        8\n",
              "dtype: int64"
            ]
          },
          "metadata": {
            "tags": []
          },
          "execution_count": 27
        }
      ]
    },
    {
      "cell_type": "markdown",
      "metadata": {
        "id": "NJ5OKr9jUd5h"
      },
      "source": [
        "dictionary keys menjadi indeks, dan dictionary valuenya adalah value Series."
      ]
    },
    {
      "cell_type": "code",
      "metadata": {
        "colab": {
          "base_uri": "https://localhost:8080/"
        },
        "id": "jaPcEHelUp8Z",
        "outputId": "7735f5aa-1360-4b80-f06d-acaa15213a00"
      },
      "source": [
        "city_employee_count.keys()"
      ],
      "execution_count": 28,
      "outputs": [
        {
          "output_type": "execute_result",
          "data": {
            "text/plain": [
              "Index(['Amsterdam', 'Tokyo'], dtype='object')"
            ]
          },
          "metadata": {
            "tags": []
          },
          "execution_count": 28
        }
      ]
    },
    {
      "cell_type": "code",
      "metadata": {
        "colab": {
          "base_uri": "https://localhost:8080/"
        },
        "id": "EcWXe3qlU1rP",
        "outputId": "02e05646-d5fa-4362-ae28-ccc244f478ae"
      },
      "source": [
        "\"Tokyo\" in city_employee_count"
      ],
      "execution_count": 29,
      "outputs": [
        {
          "output_type": "execute_result",
          "data": {
            "text/plain": [
              "True"
            ]
          },
          "metadata": {
            "tags": []
          },
          "execution_count": 29
        }
      ]
    },
    {
      "cell_type": "code",
      "metadata": {
        "colab": {
          "base_uri": "https://localhost:8080/"
        },
        "id": "rnb37qBlU4rL",
        "outputId": "6f972084-71fa-4445-9be6-0ca557b8391d"
      },
      "source": [
        "\"New York\" in city_employee_count"
      ],
      "execution_count": 30,
      "outputs": [
        {
          "output_type": "execute_result",
          "data": {
            "text/plain": [
              "False"
            ]
          },
          "metadata": {
            "tags": []
          },
          "execution_count": 30
        }
      ]
    },
    {
      "cell_type": "markdown",
      "metadata": {
        "id": "hQT0L8QoU_eq"
      },
      "source": [
        "#Memahami Objek DataFrame\n",
        "\n",
        "Meskipun Series adalah struktur data yang cukup kuat, ia memiliki keterbatasan. Misalnya, Anda hanya dapat menyimpan satu atribut per key. Seperti yang Anda lihat dengan nba dataset, yang menampilkan 23 kolom, library Pandas Python memiliki lebih banyak hal untuk ditawarkan dengan DataFrame. Struktur data ini adalah urutan objek Series yang berbagi indeks yang sama.\n",
        "\n",
        "Jika Anda telah mengikuti Series sebelumnya, maka Anda seharusnya sudah memiliki dua Series objek sebagai kuncinya:\n",
        "\n",
        "- city_revenues\n",
        "- city_employee_count"
      ]
    },
    {
      "cell_type": "markdown",
      "metadata": {
        "id": "slwXcjwCVsr7"
      },
      "source": [
        "Anda dapat menggabungkan objek-objek ini menjadi DataFrame dengan menyediakan dictionary. keys dictionary akan menjadi nama kolom, dan valuesnya harus berisi Series objek:"
      ]
    },
    {
      "cell_type": "code",
      "metadata": {
        "colab": {
          "base_uri": "https://localhost:8080/",
          "height": 140
        },
        "id": "VF2G-HEDU7Ag",
        "outputId": "c5d38cdf-711d-4bf1-a38f-67d5b7945aaa"
      },
      "source": [
        "city_data = pd.DataFrame({\n",
        "\"revenue\": city_revenues,\n",
        "\"employee_count\": city_employee_count\n",
        "})\n",
        "\n",
        "city_data"
      ],
      "execution_count": 31,
      "outputs": [
        {
          "output_type": "execute_result",
          "data": {
            "text/html": [
              "<div>\n",
              "<style scoped>\n",
              "    .dataframe tbody tr th:only-of-type {\n",
              "        vertical-align: middle;\n",
              "    }\n",
              "\n",
              "    .dataframe tbody tr th {\n",
              "        vertical-align: top;\n",
              "    }\n",
              "\n",
              "    .dataframe thead th {\n",
              "        text-align: right;\n",
              "    }\n",
              "</style>\n",
              "<table border=\"1\" class=\"dataframe\">\n",
              "  <thead>\n",
              "    <tr style=\"text-align: right;\">\n",
              "      <th></th>\n",
              "      <th>revenue</th>\n",
              "      <th>employee_count</th>\n",
              "    </tr>\n",
              "  </thead>\n",
              "  <tbody>\n",
              "    <tr>\n",
              "      <th>Amsterdam</th>\n",
              "      <td>4200</td>\n",
              "      <td>5.0</td>\n",
              "    </tr>\n",
              "    <tr>\n",
              "      <th>Tokyo</th>\n",
              "      <td>6500</td>\n",
              "      <td>8.0</td>\n",
              "    </tr>\n",
              "    <tr>\n",
              "      <th>Toronto</th>\n",
              "      <td>8000</td>\n",
              "      <td>NaN</td>\n",
              "    </tr>\n",
              "  </tbody>\n",
              "</table>\n",
              "</div>"
            ],
            "text/plain": [
              "           revenue  employee_count\n",
              "Amsterdam     4200             5.0\n",
              "Tokyo         6500             8.0\n",
              "Toronto       8000             NaN"
            ]
          },
          "metadata": {
            "tags": []
          },
          "execution_count": 31
        }
      ]
    },
    {
      "cell_type": "markdown",
      "metadata": {
        "id": "Ln7U7D-UWL94"
      },
      "source": [
        "Perhatikan bagaimana Pandas mengganti nilai yang hilang employee_count untuk Toronto dengan NaN.\n",
        "\n",
        "DataFrame Indeks baru adalah gabungan dari dua Series indeks:"
      ]
    },
    {
      "cell_type": "code",
      "metadata": {
        "colab": {
          "base_uri": "https://localhost:8080/"
        },
        "id": "Xt6BKMdyWPEH",
        "outputId": "8f193d47-a28f-4596-a230-78a938742b95"
      },
      "source": [
        "city_data.index"
      ],
      "execution_count": 32,
      "outputs": [
        {
          "output_type": "execute_result",
          "data": {
            "text/plain": [
              "Index(['Amsterdam', 'Tokyo', 'Toronto'], dtype='object')"
            ]
          },
          "metadata": {
            "tags": []
          },
          "execution_count": 32
        }
      ]
    },
    {
      "cell_type": "code",
      "metadata": {
        "colab": {
          "base_uri": "https://localhost:8080/"
        },
        "id": "gcNtIueoWVz0",
        "outputId": "6984b97d-f671-4732-9a0f-7dd2ad047aca"
      },
      "source": [
        "city_data.values"
      ],
      "execution_count": 33,
      "outputs": [
        {
          "output_type": "execute_result",
          "data": {
            "text/plain": [
              "array([[4.2e+03, 5.0e+00],\n",
              "       [6.5e+03, 8.0e+00],\n",
              "       [8.0e+03,     nan]])"
            ]
          },
          "metadata": {
            "tags": []
          },
          "execution_count": 33
        }
      ]
    },
    {
      "cell_type": "markdown",
      "metadata": {
        "id": "hbGD30HPW4FL"
      },
      "source": [
        "Anda juga dapat merujuk ke 2 dimensi DataFrame sebagai sumbu (axis) :"
      ]
    },
    {
      "cell_type": "code",
      "metadata": {
        "id": "-Dn1taZJW7ax",
        "colab": {
          "base_uri": "https://localhost:8080/"
        },
        "outputId": "535f1c59-7f12-4e4e-a94b-ebcf696708f5"
      },
      "source": [
        "city_data.axes"
      ],
      "execution_count": 34,
      "outputs": [
        {
          "output_type": "execute_result",
          "data": {
            "text/plain": [
              "[Index(['Amsterdam', 'Tokyo', 'Toronto'], dtype='object'),\n",
              " Index(['revenue', 'employee_count'], dtype='object')]"
            ]
          },
          "metadata": {
            "tags": []
          },
          "execution_count": 34
        }
      ]
    },
    {
      "cell_type": "code",
      "metadata": {
        "id": "XDvPq7-wW9-g",
        "colab": {
          "base_uri": "https://localhost:8080/"
        },
        "outputId": "1923e1c3-86c5-4c3a-bc38-20dbdc32ea8b"
      },
      "source": [
        "city_data.axes[0]"
      ],
      "execution_count": 35,
      "outputs": [
        {
          "output_type": "execute_result",
          "data": {
            "text/plain": [
              "Index(['Amsterdam', 'Tokyo', 'Toronto'], dtype='object')"
            ]
          },
          "metadata": {
            "tags": []
          },
          "execution_count": 35
        }
      ]
    },
    {
      "cell_type": "code",
      "metadata": {
        "id": "DGQhmeDuW_ai",
        "colab": {
          "base_uri": "https://localhost:8080/"
        },
        "outputId": "6a6e5d04-3131-4884-9f83-6d2d1fbea370"
      },
      "source": [
        "city_data.axes[1]"
      ],
      "execution_count": 36,
      "outputs": [
        {
          "output_type": "execute_result",
          "data": {
            "text/plain": [
              "Index(['revenue', 'employee_count'], dtype='object')"
            ]
          },
          "metadata": {
            "tags": []
          },
          "execution_count": 36
        }
      ]
    },
    {
      "cell_type": "markdown",
      "metadata": {
        "id": "r5HASC3nXF_F"
      },
      "source": [
        "Sumbu yang ditandai dengan 0 adalah indeks baris , dan sumbu yang ditandai dengan 1 adalah indeks kolom . Terminologi ini penting untuk diketahui karena Anda akan menemukan beberapa metode DataFrame yang menerima parameter axis."
      ]
    },
    {
      "cell_type": "markdown",
      "metadata": {
        "id": "CUICioVFXfL3"
      },
      "source": [
        "DataFrame juga merupakan struktur data seperti dictionary"
      ]
    },
    {
      "cell_type": "code",
      "metadata": {
        "colab": {
          "base_uri": "https://localhost:8080/"
        },
        "id": "npposMDXXE-0",
        "outputId": "fa553a5c-463f-47fc-f1df-4348627aca06"
      },
      "source": [
        "city_data.keys()"
      ],
      "execution_count": 37,
      "outputs": [
        {
          "output_type": "execute_result",
          "data": {
            "text/plain": [
              "Index(['revenue', 'employee_count'], dtype='object')"
            ]
          },
          "metadata": {
            "tags": []
          },
          "execution_count": 37
        }
      ]
    },
    {
      "cell_type": "code",
      "metadata": {
        "colab": {
          "base_uri": "https://localhost:8080/"
        },
        "id": "ScCdXUDZXkWR",
        "outputId": "6a3685d0-caa4-43e1-eca1-04836e20f809"
      },
      "source": [
        "\"Amsterdam\" in city_data"
      ],
      "execution_count": 38,
      "outputs": [
        {
          "output_type": "execute_result",
          "data": {
            "text/plain": [
              "False"
            ]
          },
          "metadata": {
            "tags": []
          },
          "execution_count": 38
        }
      ]
    },
    {
      "cell_type": "markdown",
      "metadata": {
        "id": "p4wxkr8We-iy"
      },
      "source": [
        "#Cek Points atau pts di Dataset NBA"
      ]
    },
    {
      "cell_type": "code",
      "metadata": {
        "colab": {
          "base_uri": "https://localhost:8080/"
        },
        "id": "0k4I6BC2fC8v",
        "outputId": "84877953-53c4-4f44-ea72-2e392d011d0f"
      },
      "source": [
        "nba.index"
      ],
      "execution_count": 39,
      "outputs": [
        {
          "output_type": "execute_result",
          "data": {
            "text/plain": [
              "RangeIndex(start=0, stop=126314, step=1)"
            ]
          },
          "metadata": {
            "tags": []
          },
          "execution_count": 39
        }
      ]
    },
    {
      "cell_type": "code",
      "metadata": {
        "colab": {
          "base_uri": "https://localhost:8080/"
        },
        "id": "cSO4LN_ifG5x",
        "outputId": "e055c900-7adc-4b9a-9709-8ed7711c8b0c"
      },
      "source": [
        "nba.axes"
      ],
      "execution_count": 40,
      "outputs": [
        {
          "output_type": "execute_result",
          "data": {
            "text/plain": [
              "[RangeIndex(start=0, stop=126314, step=1),\n",
              " Index(['gameorder', 'game_id', 'lg_id', '_iscopy', 'year_id', 'date_game',\n",
              "        'seasongame', 'is_playoffs', 'team_id', 'fran_id', 'pts', 'elo_i',\n",
              "        'elo_n', 'win_equiv', 'opp_id', 'opp_fran', 'opp_pts', 'opp_elo_i',\n",
              "        'opp_elo_n', 'game_location', 'game_result', 'forecast', 'notes',\n",
              "        'date_played'],\n",
              "       dtype='object')]"
            ]
          },
          "metadata": {
            "tags": []
          },
          "execution_count": 40
        }
      ]
    },
    {
      "cell_type": "code",
      "metadata": {
        "colab": {
          "base_uri": "https://localhost:8080/"
        },
        "id": "lAkIJDEgfY5t",
        "outputId": "a2b1c915-1c82-4b1e-ee39-5db4dafe888e"
      },
      "source": [
        "\"points\" in nba.keys()"
      ],
      "execution_count": 41,
      "outputs": [
        {
          "output_type": "execute_result",
          "data": {
            "text/plain": [
              "False"
            ]
          },
          "metadata": {
            "tags": []
          },
          "execution_count": 41
        }
      ]
    },
    {
      "cell_type": "code",
      "metadata": {
        "colab": {
          "base_uri": "https://localhost:8080/"
        },
        "id": "9SN8cipRfa69",
        "outputId": "5d1495eb-ef5c-4ab1-fb1c-700aa5a9c7b6"
      },
      "source": [
        "\"pts\" in nba.keys()"
      ],
      "execution_count": 42,
      "outputs": [
        {
          "output_type": "execute_result",
          "data": {
            "text/plain": [
              "True"
            ]
          },
          "metadata": {
            "tags": []
          },
          "execution_count": 42
        }
      ]
    },
    {
      "cell_type": "markdown",
      "metadata": {
        "id": "7lHNJFQMflcC"
      },
      "source": [
        "#Accessing Series Elements"
      ]
    },
    {
      "cell_type": "markdown",
      "metadata": {
        "id": "ieHDVlXHf37q"
      },
      "source": [
        "Anda dapat dengan mudah mengakses nilai dalam a Series dengan label dan indeks posisi:"
      ]
    },
    {
      "cell_type": "code",
      "metadata": {
        "colab": {
          "base_uri": "https://localhost:8080/"
        },
        "id": "uPrtcEOgfnCj",
        "outputId": "bb2d3ad2-db53-45cc-c39b-c4f3d0f49b76"
      },
      "source": [
        "city_revenues[\"Toronto\"]"
      ],
      "execution_count": 43,
      "outputs": [
        {
          "output_type": "execute_result",
          "data": {
            "text/plain": [
              "8000"
            ]
          },
          "metadata": {
            "tags": []
          },
          "execution_count": 43
        }
      ]
    },
    {
      "cell_type": "code",
      "metadata": {
        "colab": {
          "base_uri": "https://localhost:8080/"
        },
        "id": "wumgn2GwgPvD",
        "outputId": "ef1a5e91-cba1-4315-ff42-6074b702b68a"
      },
      "source": [
        "city_revenues[1]"
      ],
      "execution_count": 44,
      "outputs": [
        {
          "output_type": "execute_result",
          "data": {
            "text/plain": [
              "8000"
            ]
          },
          "metadata": {
            "tags": []
          },
          "execution_count": 44
        }
      ]
    },
    {
      "cell_type": "code",
      "metadata": {
        "colab": {
          "base_uri": "https://localhost:8080/"
        },
        "id": "FoPa-8JNgZ9a",
        "outputId": "a5cd5875-a89b-4378-966c-3c1ed8f2f06a"
      },
      "source": [
        "city_revenues[-1]"
      ],
      "execution_count": 45,
      "outputs": [
        {
          "output_type": "execute_result",
          "data": {
            "text/plain": [
              "6500"
            ]
          },
          "metadata": {
            "tags": []
          },
          "execution_count": 45
        }
      ]
    },
    {
      "cell_type": "code",
      "metadata": {
        "colab": {
          "base_uri": "https://localhost:8080/"
        },
        "id": "dvugtP3jgdJo",
        "outputId": "f12339ed-aaa9-46cf-cdc8-932b046b4f06"
      },
      "source": [
        "city_revenues[1:]"
      ],
      "execution_count": 46,
      "outputs": [
        {
          "output_type": "execute_result",
          "data": {
            "text/plain": [
              "Toronto    8000\n",
              "Tokyo      6500\n",
              "dtype: int64"
            ]
          },
          "metadata": {
            "tags": []
          },
          "execution_count": 46
        }
      ]
    },
    {
      "cell_type": "code",
      "metadata": {
        "colab": {
          "base_uri": "https://localhost:8080/"
        },
        "id": "r7okgXE8ghmm",
        "outputId": "14a1e4dd-ef6e-4b91-ebd8-1d8258749800"
      },
      "source": [
        "city_revenues[\"Toronto\":]"
      ],
      "execution_count": 47,
      "outputs": [
        {
          "output_type": "execute_result",
          "data": {
            "text/plain": [
              "Toronto    8000\n",
              "Tokyo      6500\n",
              "dtype: int64"
            ]
          },
          "metadata": {
            "tags": []
          },
          "execution_count": 47
        }
      ]
    },
    {
      "cell_type": "markdown",
      "metadata": {
        "id": "4UonCIzPgtdC"
      },
      "source": [
        "#Using .loc and .iloc"
      ]
    },
    {
      "cell_type": "markdown",
      "metadata": {
        "id": "xccm4Sfug2nE"
      },
      "source": [
        "Operator pengindeksan ([]) mudah digunakan tetapi Bagaimana jika labelnya juga angka? Katakanlah Anda harus bekerja dengan Series objek seperti ini:"
      ]
    },
    {
      "cell_type": "code",
      "metadata": {
        "colab": {
          "base_uri": "https://localhost:8080/"
        },
        "id": "InjD3e1ogsbq",
        "outputId": "6f107641-ddb2-487c-a19d-f0fd0d2add83"
      },
      "source": [
        "colors = pd.Series(\n",
        "[\"red\", \"purple\", \"blue\", \"green\", \"yellow\"],\n",
        "index=[1, 2, 3, 5, 8]\n",
        ")\n",
        "\n",
        "colors"
      ],
      "execution_count": 48,
      "outputs": [
        {
          "output_type": "execute_result",
          "data": {
            "text/plain": [
              "1       red\n",
              "2    purple\n",
              "3      blue\n",
              "5     green\n",
              "8    yellow\n",
              "dtype: object"
            ]
          },
          "metadata": {
            "tags": []
          },
          "execution_count": 48
        }
      ]
    },
    {
      "cell_type": "code",
      "metadata": {
        "colab": {
          "base_uri": "https://localhost:8080/",
          "height": 34
        },
        "id": "GWvoLt5jhdgn",
        "outputId": "891d7e66-6521-41ec-a521-cf6d55fff87c"
      },
      "source": [
        "colors[1]"
      ],
      "execution_count": 49,
      "outputs": [
        {
          "output_type": "execute_result",
          "data": {
            "application/vnd.google.colaboratory.intrinsic+json": {
              "type": "string"
            },
            "text/plain": [
              "'red'"
            ]
          },
          "metadata": {
            "tags": []
          },
          "execution_count": 49
        }
      ]
    },
    {
      "cell_type": "markdown",
      "metadata": {
        "id": "SEoRhQtnhx-Q"
      },
      "source": [
        "pustaka Pandas Python menyediakan dua metode akses data :\n",
        "\n",
        "- .loc mengacu pada indeks label .\n",
        "- .iloc mengacu pada indeks posisi ."
      ]
    },
    {
      "cell_type": "code",
      "metadata": {
        "colab": {
          "base_uri": "https://localhost:8080/",
          "height": 34
        },
        "id": "P97BhPY0hzMM",
        "outputId": "3325197e-ddb7-4d5a-e254-751594759922"
      },
      "source": [
        "colors.loc[1]"
      ],
      "execution_count": 50,
      "outputs": [
        {
          "output_type": "execute_result",
          "data": {
            "application/vnd.google.colaboratory.intrinsic+json": {
              "type": "string"
            },
            "text/plain": [
              "'red'"
            ]
          },
          "metadata": {
            "tags": []
          },
          "execution_count": 50
        }
      ]
    },
    {
      "cell_type": "code",
      "metadata": {
        "colab": {
          "base_uri": "https://localhost:8080/",
          "height": 34
        },
        "id": "QJpBwbvCh2yt",
        "outputId": "ddf05b9e-cb23-46cd-9293-e2ed3f11ccc4"
      },
      "source": [
        "colors.iloc[1]"
      ],
      "execution_count": 51,
      "outputs": [
        {
          "output_type": "execute_result",
          "data": {
            "application/vnd.google.colaboratory.intrinsic+json": {
              "type": "string"
            },
            "text/plain": [
              "'purple'"
            ]
          },
          "metadata": {
            "tags": []
          },
          "execution_count": 51
        }
      ]
    },
    {
      "cell_type": "markdown",
      "metadata": {
        "id": "CP-8hJ2viIlz"
      },
      "source": [
        "Lebih jelas perbedeaannya perhatikan gambar dibawah ini"
      ]
    },
    {
      "cell_type": "markdown",
      "metadata": {
        "id": "rbLTGB48iF0z"
      },
      "source": [
        "![image.png](data:image/png;base64,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)"
      ]
    },
    {
      "cell_type": "code",
      "metadata": {
        "colab": {
          "base_uri": "https://localhost:8080/"
        },
        "id": "CA8RuqTQiGvi",
        "outputId": "dc33673c-9837-47f4-d6d3-1fbaba079acc"
      },
      "source": [
        "colors.iloc[1:3]"
      ],
      "execution_count": 52,
      "outputs": [
        {
          "output_type": "execute_result",
          "data": {
            "text/plain": [
              "2    purple\n",
              "3      blue\n",
              "dtype: object"
            ]
          },
          "metadata": {
            "tags": []
          },
          "execution_count": 52
        }
      ]
    },
    {
      "cell_type": "code",
      "metadata": {
        "colab": {
          "base_uri": "https://localhost:8080/"
        },
        "id": "DCxOS0-pluQU",
        "outputId": "81436c92-888e-4f2c-bc64-6299193bb23e"
      },
      "source": [
        "colors.loc[1:3]"
      ],
      "execution_count": 53,
      "outputs": [
        {
          "output_type": "execute_result",
          "data": {
            "text/plain": [
              "1       red\n",
              "2    purple\n",
              "3      blue\n",
              "dtype: object"
            ]
          },
          "metadata": {
            "tags": []
          },
          "execution_count": 53
        }
      ]
    },
    {
      "cell_type": "code",
      "metadata": {
        "colab": {
          "base_uri": "https://localhost:8080/"
        },
        "id": "-C6e7d3Ullu4",
        "outputId": "49297a61-8a1f-4f88-dc14-8507ed35753a"
      },
      "source": [
        "colors.loc[3:8]"
      ],
      "execution_count": 54,
      "outputs": [
        {
          "output_type": "execute_result",
          "data": {
            "text/plain": [
              "3      blue\n",
              "5     green\n",
              "8    yellow\n",
              "dtype: object"
            ]
          },
          "metadata": {
            "tags": []
          },
          "execution_count": 54
        }
      ]
    },
    {
      "cell_type": "markdown",
      "metadata": {
        "id": "p0GJJIFvnQL1"
      },
      "source": [
        "Anda dapat menggunakan blok kode di atas untuk membedakan antara dua perilaku Series:\n",
        "- Anda dapat menggunakan .iloc yang Series mirip dengan menggunakan [] pada list .\n",
        "- Anda dapat menggunakan .loc yang Series mirip dengan menggunakan [] pada dictioary"
      ]
    },
    {
      "cell_type": "markdown",
      "metadata": {
        "id": "-kytNsQsqYb3"
      },
      "source": [
        "#Accessing DataFrame Elements"
      ]
    },
    {
      "cell_type": "markdown",
      "metadata": {
        "id": "LD4NrfBZqjCw"
      },
      "source": [
        "Karena DataFrame terdiri dari Series objek, Anda dapat menggunakan alat yang sama untuk mengakses elemennya. Perbedaan penting adalah dimensi tambahan dari DataFrame. Anda akan menggunakan operator pengindeksan untuk kolom dan metode akses .loc dan .iloc pada baris."
      ]
    },
    {
      "cell_type": "code",
      "metadata": {
        "colab": {
          "base_uri": "https://localhost:8080/"
        },
        "id": "5pN93-AMnTq-",
        "outputId": "eb0beffe-d0a0-479c-9ac1-66d8a5e51ffb"
      },
      "source": [
        "city_data[\"revenue\"]"
      ],
      "execution_count": 55,
      "outputs": [
        {
          "output_type": "execute_result",
          "data": {
            "text/plain": [
              "Amsterdam    4200\n",
              "Tokyo        6500\n",
              "Toronto      8000\n",
              "Name: revenue, dtype: int64"
            ]
          },
          "metadata": {
            "tags": []
          },
          "execution_count": 55
        }
      ]
    },
    {
      "cell_type": "markdown",
      "metadata": {
        "id": "NY9TiD0_q3bp"
      },
      "source": [
        "Jika nama kolom adalah string, maka Anda dapat menggunakan akses gaya atribut dengan notasi titik juga:"
      ]
    },
    {
      "cell_type": "code",
      "metadata": {
        "colab": {
          "base_uri": "https://localhost:8080/"
        },
        "id": "lmyZbxZUq0dt",
        "outputId": "4d138fc0-4350-4278-eb04-ced395fd589b"
      },
      "source": [
        "city_data.revenue"
      ],
      "execution_count": 56,
      "outputs": [
        {
          "output_type": "execute_result",
          "data": {
            "text/plain": [
              "Amsterdam    4200\n",
              "Tokyo        6500\n",
              "Toronto      8000\n",
              "Name: revenue, dtype: int64"
            ]
          },
          "metadata": {
            "tags": []
          },
          "execution_count": 56
        }
      ]
    },
    {
      "cell_type": "code",
      "metadata": {
        "colab": {
          "base_uri": "https://localhost:8080/"
        },
        "id": "D6VvzJyhrPAi",
        "outputId": "d51d1727-478e-41cb-f33b-3a234b34cf06"
      },
      "source": [
        "toys = pd.DataFrame([\n",
        "{\"name\": \"ball\", \"shape\": \"sphere\"},\n",
        "{\"name\": \"Rubik's cube\", \"shape\": \"cube\"}\n",
        "])\n",
        "\n",
        "toys[\"shape\"]"
      ],
      "execution_count": 57,
      "outputs": [
        {
          "output_type": "execute_result",
          "data": {
            "text/plain": [
              "0    sphere\n",
              "1      cube\n",
              "Name: shape, dtype: object"
            ]
          },
          "metadata": {
            "tags": []
          },
          "execution_count": 57
        }
      ]
    },
    {
      "cell_type": "code",
      "metadata": {
        "colab": {
          "base_uri": "https://localhost:8080/"
        },
        "id": "yw25XvpTrVQ1",
        "outputId": "2e6e7ad8-6d76-48af-df56-ddbe58aef836"
      },
      "source": [
        "toys.shape"
      ],
      "execution_count": 58,
      "outputs": [
        {
          "output_type": "execute_result",
          "data": {
            "text/plain": [
              "(2, 2)"
            ]
          },
          "metadata": {
            "tags": []
          },
          "execution_count": 58
        }
      ]
    },
    {
      "cell_type": "markdown",
      "metadata": {
        "id": "L0JuJfkgr9G-"
      },
      "source": [
        "**Using .loc and .iloc**"
      ]
    },
    {
      "cell_type": "code",
      "metadata": {
        "colab": {
          "base_uri": "https://localhost:8080/"
        },
        "id": "Tr1Fkx-cr-ig",
        "outputId": "3c9ab140-3659-45e8-8941-afa25ba985e6"
      },
      "source": [
        "city_data.loc[\"Amsterdam\"]"
      ],
      "execution_count": 59,
      "outputs": [
        {
          "output_type": "execute_result",
          "data": {
            "text/plain": [
              "revenue           4200.0\n",
              "employee_count       5.0\n",
              "Name: Amsterdam, dtype: float64"
            ]
          },
          "metadata": {
            "tags": []
          },
          "execution_count": 59
        }
      ]
    },
    {
      "cell_type": "code",
      "metadata": {
        "colab": {
          "base_uri": "https://localhost:8080/",
          "height": 110
        },
        "id": "sKbJd7RhsDHD",
        "outputId": "640ea7d3-048a-4a54-97ce-811428d5e35d"
      },
      "source": [
        "city_data.loc[\"Tokyo\": \"Toronto\"]"
      ],
      "execution_count": 60,
      "outputs": [
        {
          "output_type": "execute_result",
          "data": {
            "text/html": [
              "<div>\n",
              "<style scoped>\n",
              "    .dataframe tbody tr th:only-of-type {\n",
              "        vertical-align: middle;\n",
              "    }\n",
              "\n",
              "    .dataframe tbody tr th {\n",
              "        vertical-align: top;\n",
              "    }\n",
              "\n",
              "    .dataframe thead th {\n",
              "        text-align: right;\n",
              "    }\n",
              "</style>\n",
              "<table border=\"1\" class=\"dataframe\">\n",
              "  <thead>\n",
              "    <tr style=\"text-align: right;\">\n",
              "      <th></th>\n",
              "      <th>revenue</th>\n",
              "      <th>employee_count</th>\n",
              "    </tr>\n",
              "  </thead>\n",
              "  <tbody>\n",
              "    <tr>\n",
              "      <th>Tokyo</th>\n",
              "      <td>6500</td>\n",
              "      <td>8.0</td>\n",
              "    </tr>\n",
              "    <tr>\n",
              "      <th>Toronto</th>\n",
              "      <td>8000</td>\n",
              "      <td>NaN</td>\n",
              "    </tr>\n",
              "  </tbody>\n",
              "</table>\n",
              "</div>"
            ],
            "text/plain": [
              "         revenue  employee_count\n",
              "Tokyo       6500             8.0\n",
              "Toronto     8000             NaN"
            ]
          },
          "metadata": {
            "tags": []
          },
          "execution_count": 60
        }
      ]
    },
    {
      "cell_type": "code",
      "metadata": {
        "colab": {
          "base_uri": "https://localhost:8080/"
        },
        "id": "yC5QrItVsF_N",
        "outputId": "1802d60a-a78a-43a7-8735-49c253ededfd"
      },
      "source": [
        "city_data.iloc[1]"
      ],
      "execution_count": 61,
      "outputs": [
        {
          "output_type": "execute_result",
          "data": {
            "text/plain": [
              "revenue           6500.0\n",
              "employee_count       8.0\n",
              "Name: Tokyo, dtype: float64"
            ]
          },
          "metadata": {
            "tags": []
          },
          "execution_count": 61
        }
      ]
    },
    {
      "cell_type": "markdown",
      "metadata": {
        "id": "GTQkMuQns0jt"
      },
      "source": [
        "Setiap baris kode memilih baris yang berbeda dari city_data:\n",
        "\n",
        "- city_data.loc[\"Amsterdam\"] memilih baris dengan indeks label \"Amsterdam\".\n",
        "- city_data.loc[\"Tokyo\": \"Toronto\"] memilih baris dengan indeks label dari \"Tokyo\"ke \"Toronto\". Ingat, .locinklusif.\n",
        "- city_data.iloc[1] memilih baris dengan indeks posisi 1, yaitu \"Tokyo\"."
      ]
    },
    {
      "cell_type": "markdown",
      "metadata": {
        "id": "YEXOczthtXeu"
      },
      "source": [
        "Untuk DataFrame, metode akses data .loc dan .iloc juga menerima parameter kedua. Sementara parameter pertama memilih baris berdasarkan indeks, parameter kedua memilih kolom. Anda dapat menggunakan parameter ini bersama-sama untuk memilih subset baris dan kolom dari DataFrame:"
      ]
    },
    {
      "cell_type": "code",
      "metadata": {
        "colab": {
          "base_uri": "https://localhost:8080/"
        },
        "id": "gRhgluPEtSXa",
        "outputId": "401e1252-d461-4acd-b048-5637e02e0789"
      },
      "source": [
        "city_data.loc[\"Amsterdam\": \"Tokyo\", \"revenue\"]"
      ],
      "execution_count": 62,
      "outputs": [
        {
          "output_type": "execute_result",
          "data": {
            "text/plain": [
              "Amsterdam    4200\n",
              "Tokyo        6500\n",
              "Name: revenue, dtype: int64"
            ]
          },
          "metadata": {
            "tags": []
          },
          "execution_count": 62
        }
      ]
    },
    {
      "cell_type": "markdown",
      "metadata": {
        "id": "r2Fm8Qtmvu-h"
      },
      "source": [
        "menggunakan data nba"
      ]
    },
    {
      "cell_type": "code",
      "metadata": {
        "colab": {
          "base_uri": "https://localhost:8080/",
          "height": 201
        },
        "id": "fixQ-_XJvwwC",
        "outputId": "a62c0aba-8a7f-4962-b74b-70c055b48d15"
      },
      "source": [
        "nba.loc[5555:5559, [\"fran_id\", \"opp_fran\", \"pts\", \"opp_pts\"]]"
      ],
      "execution_count": 63,
      "outputs": [
        {
          "output_type": "execute_result",
          "data": {
            "text/html": [
              "<div>\n",
              "<style scoped>\n",
              "    .dataframe tbody tr th:only-of-type {\n",
              "        vertical-align: middle;\n",
              "    }\n",
              "\n",
              "    .dataframe tbody tr th {\n",
              "        vertical-align: top;\n",
              "    }\n",
              "\n",
              "    .dataframe thead th {\n",
              "        text-align: right;\n",
              "    }\n",
              "</style>\n",
              "<table border=\"1\" class=\"dataframe\">\n",
              "  <thead>\n",
              "    <tr style=\"text-align: right;\">\n",
              "      <th></th>\n",
              "      <th>fran_id</th>\n",
              "      <th>opp_fran</th>\n",
              "      <th>pts</th>\n",
              "      <th>opp_pts</th>\n",
              "    </tr>\n",
              "  </thead>\n",
              "  <tbody>\n",
              "    <tr>\n",
              "      <th>5555</th>\n",
              "      <td>Pistons</td>\n",
              "      <td>Warriors</td>\n",
              "      <td>83</td>\n",
              "      <td>56</td>\n",
              "    </tr>\n",
              "    <tr>\n",
              "      <th>5556</th>\n",
              "      <td>Celtics</td>\n",
              "      <td>Knicks</td>\n",
              "      <td>95</td>\n",
              "      <td>74</td>\n",
              "    </tr>\n",
              "    <tr>\n",
              "      <th>5557</th>\n",
              "      <td>Knicks</td>\n",
              "      <td>Celtics</td>\n",
              "      <td>74</td>\n",
              "      <td>95</td>\n",
              "    </tr>\n",
              "    <tr>\n",
              "      <th>5558</th>\n",
              "      <td>Kings</td>\n",
              "      <td>Sixers</td>\n",
              "      <td>81</td>\n",
              "      <td>86</td>\n",
              "    </tr>\n",
              "    <tr>\n",
              "      <th>5559</th>\n",
              "      <td>Sixers</td>\n",
              "      <td>Kings</td>\n",
              "      <td>86</td>\n",
              "      <td>81</td>\n",
              "    </tr>\n",
              "  </tbody>\n",
              "</table>\n",
              "</div>"
            ],
            "text/plain": [
              "      fran_id  opp_fran  pts  opp_pts\n",
              "5555  Pistons  Warriors   83       56\n",
              "5556  Celtics    Knicks   95       74\n",
              "5557   Knicks   Celtics   74       95\n",
              "5558    Kings    Sixers   81       86\n",
              "5559   Sixers     Kings   86       81"
            ]
          },
          "metadata": {
            "tags": []
          },
          "execution_count": 63
        }
      ]
    },
    {
      "cell_type": "markdown",
      "metadata": {
        "id": "af9SL8XDwM58"
      },
      "source": [
        "#Querying Your Dataset"
      ]
    },
    {
      "cell_type": "markdown",
      "metadata": {
        "id": "l7MKgAASwWLc"
      },
      "source": [
        "Anda telah melihat cara mengakses subset dari kumpulan data besar berdasarkan indeksnya. Sekarang, Anda akan memilih baris berdasarkan nilai di kolom kumpulan data untuk mengkueri data Anda. Misalnya, Anda dapat membuat DataFramegame baru yang hanya berisi game yang dimainkan setelah 2010:"
      ]
    },
    {
      "cell_type": "code",
      "metadata": {
        "colab": {
          "base_uri": "https://localhost:8080/"
        },
        "id": "TbskqHyFwO3v",
        "outputId": "c950199f-e5ad-4815-f996-8770df4aafce"
      },
      "source": [
        "current_decade = nba[nba[\"year_id\"] > 2010]\n",
        "current_decade.shape"
      ],
      "execution_count": 64,
      "outputs": [
        {
          "output_type": "execute_result",
          "data": {
            "text/plain": [
              "(12658, 24)"
            ]
          },
          "metadata": {
            "tags": []
          },
          "execution_count": 64
        }
      ]
    },
    {
      "cell_type": "code",
      "metadata": {
        "colab": {
          "base_uri": "https://localhost:8080/",
          "height": 434
        },
        "id": "GuYIRUFWw2t5",
        "outputId": "cdb46086-9079-4351-9b93-c1e00e9b7c1f"
      },
      "source": [
        "current_decade"
      ],
      "execution_count": 65,
      "outputs": [
        {
          "output_type": "execute_result",
          "data": {
            "text/html": [
              "<div>\n",
              "<style scoped>\n",
              "    .dataframe tbody tr th:only-of-type {\n",
              "        vertical-align: middle;\n",
              "    }\n",
              "\n",
              "    .dataframe tbody tr th {\n",
              "        vertical-align: top;\n",
              "    }\n",
              "\n",
              "    .dataframe thead th {\n",
              "        text-align: right;\n",
              "    }\n",
              "</style>\n",
              "<table border=\"1\" class=\"dataframe\">\n",
              "  <thead>\n",
              "    <tr style=\"text-align: right;\">\n",
              "      <th></th>\n",
              "      <th>gameorder</th>\n",
              "      <th>game_id</th>\n",
              "      <th>lg_id</th>\n",
              "      <th>_iscopy</th>\n",
              "      <th>year_id</th>\n",
              "      <th>date_game</th>\n",
              "      <th>seasongame</th>\n",
              "      <th>is_playoffs</th>\n",
              "      <th>team_id</th>\n",
              "      <th>fran_id</th>\n",
              "      <th>pts</th>\n",
              "      <th>elo_i</th>\n",
              "      <th>elo_n</th>\n",
              "      <th>win_equiv</th>\n",
              "      <th>opp_id</th>\n",
              "      <th>opp_fran</th>\n",
              "      <th>opp_pts</th>\n",
              "      <th>opp_elo_i</th>\n",
              "      <th>opp_elo_n</th>\n",
              "      <th>game_location</th>\n",
              "      <th>game_result</th>\n",
              "      <th>forecast</th>\n",
              "      <th>notes</th>\n",
              "      <th>date_played</th>\n",
              "    </tr>\n",
              "  </thead>\n",
              "  <tbody>\n",
              "    <tr>\n",
              "      <th>113656</th>\n",
              "      <td>56829</td>\n",
              "      <td>201010260BOS</td>\n",
              "      <td>NBA</td>\n",
              "      <td>1</td>\n",
              "      <td>2011</td>\n",
              "      <td>10/26/2010</td>\n",
              "      <td>1</td>\n",
              "      <td>0</td>\n",
              "      <td>MIA</td>\n",
              "      <td>Heat</td>\n",
              "      <td>80</td>\n",
              "      <td>1547.3638</td>\n",
              "      <td>1543.1600</td>\n",
              "      <td>45.141479</td>\n",
              "      <td>BOS</td>\n",
              "      <td>Celtics</td>\n",
              "      <td>88</td>\n",
              "      <td>1625.0994</td>\n",
              "      <td>1629.3031</td>\n",
              "      <td>A</td>\n",
              "      <td>L</td>\n",
              "      <td>0.264418</td>\n",
              "      <td>NaN</td>\n",
              "      <td>2010-10-26</td>\n",
              "    </tr>\n",
              "    <tr>\n",
              "      <th>113657</th>\n",
              "      <td>56829</td>\n",
              "      <td>201010260BOS</td>\n",
              "      <td>NBA</td>\n",
              "      <td>0</td>\n",
              "      <td>2011</td>\n",
              "      <td>10/26/2010</td>\n",
              "      <td>1</td>\n",
              "      <td>0</td>\n",
              "      <td>BOS</td>\n",
              "      <td>Celtics</td>\n",
              "      <td>88</td>\n",
              "      <td>1625.0994</td>\n",
              "      <td>1629.3031</td>\n",
              "      <td>53.754559</td>\n",
              "      <td>MIA</td>\n",
              "      <td>Heat</td>\n",
              "      <td>80</td>\n",
              "      <td>1547.3638</td>\n",
              "      <td>1543.1600</td>\n",
              "      <td>H</td>\n",
              "      <td>W</td>\n",
              "      <td>0.735582</td>\n",
              "      <td>NaN</td>\n",
              "      <td>2010-10-26</td>\n",
              "    </tr>\n",
              "    <tr>\n",
              "      <th>113658</th>\n",
              "      <td>56830</td>\n",
              "      <td>201010260LAL</td>\n",
              "      <td>NBA</td>\n",
              "      <td>1</td>\n",
              "      <td>2011</td>\n",
              "      <td>10/26/2010</td>\n",
              "      <td>1</td>\n",
              "      <td>0</td>\n",
              "      <td>HOU</td>\n",
              "      <td>Rockets</td>\n",
              "      <td>110</td>\n",
              "      <td>1504.1956</td>\n",
              "      <td>1502.5969</td>\n",
              "      <td>40.900764</td>\n",
              "      <td>LAL</td>\n",
              "      <td>Lakers</td>\n",
              "      <td>112</td>\n",
              "      <td>1647.6016</td>\n",
              "      <td>1649.2002</td>\n",
              "      <td>A</td>\n",
              "      <td>L</td>\n",
              "      <td>0.197632</td>\n",
              "      <td>NaN</td>\n",
              "      <td>2010-10-26</td>\n",
              "    </tr>\n",
              "    <tr>\n",
              "      <th>113659</th>\n",
              "      <td>56830</td>\n",
              "      <td>201010260LAL</td>\n",
              "      <td>NBA</td>\n",
              "      <td>0</td>\n",
              "      <td>2011</td>\n",
              "      <td>10/26/2010</td>\n",
              "      <td>1</td>\n",
              "      <td>0</td>\n",
              "      <td>LAL</td>\n",
              "      <td>Lakers</td>\n",
              "      <td>112</td>\n",
              "      <td>1647.6016</td>\n",
              "      <td>1649.2002</td>\n",
              "      <td>55.608730</td>\n",
              "      <td>HOU</td>\n",
              "      <td>Rockets</td>\n",
              "      <td>110</td>\n",
              "      <td>1504.1956</td>\n",
              "      <td>1502.5969</td>\n",
              "      <td>H</td>\n",
              "      <td>W</td>\n",
              "      <td>0.802368</td>\n",
              "      <td>NaN</td>\n",
              "      <td>2010-10-26</td>\n",
              "    </tr>\n",
              "    <tr>\n",
              "      <th>113660</th>\n",
              "      <td>56831</td>\n",
              "      <td>201010260POR</td>\n",
              "      <td>NBA</td>\n",
              "      <td>1</td>\n",
              "      <td>2011</td>\n",
              "      <td>10/26/2010</td>\n",
              "      <td>1</td>\n",
              "      <td>0</td>\n",
              "      <td>PHO</td>\n",
              "      <td>Suns</td>\n",
              "      <td>92</td>\n",
              "      <td>1643.0225</td>\n",
              "      <td>1630.6204</td>\n",
              "      <td>53.879230</td>\n",
              "      <td>POR</td>\n",
              "      <td>Trailblazers</td>\n",
              "      <td>106</td>\n",
              "      <td>1552.8141</td>\n",
              "      <td>1565.2162</td>\n",
              "      <td>A</td>\n",
              "      <td>L</td>\n",
              "      <td>0.485912</td>\n",
              "      <td>NaN</td>\n",
              "      <td>2010-10-26</td>\n",
              "    </tr>\n",
              "    <tr>\n",
              "      <th>...</th>\n",
              "      <td>...</td>\n",
              "      <td>...</td>\n",
              "      <td>...</td>\n",
              "      <td>...</td>\n",
              "      <td>...</td>\n",
              "      <td>...</td>\n",
              "      <td>...</td>\n",
              "      <td>...</td>\n",
              "      <td>...</td>\n",
              "      <td>...</td>\n",
              "      <td>...</td>\n",
              "      <td>...</td>\n",
              "      <td>...</td>\n",
              "      <td>...</td>\n",
              "      <td>...</td>\n",
              "      <td>...</td>\n",
              "      <td>...</td>\n",
              "      <td>...</td>\n",
              "      <td>...</td>\n",
              "      <td>...</td>\n",
              "      <td>...</td>\n",
              "      <td>...</td>\n",
              "      <td>...</td>\n",
              "      <td>...</td>\n",
              "    </tr>\n",
              "    <tr>\n",
              "      <th>126309</th>\n",
              "      <td>63155</td>\n",
              "      <td>201506110CLE</td>\n",
              "      <td>NBA</td>\n",
              "      <td>0</td>\n",
              "      <td>2015</td>\n",
              "      <td>6/11/2015</td>\n",
              "      <td>100</td>\n",
              "      <td>1</td>\n",
              "      <td>CLE</td>\n",
              "      <td>Cavaliers</td>\n",
              "      <td>82</td>\n",
              "      <td>1723.4149</td>\n",
              "      <td>1704.3949</td>\n",
              "      <td>60.309792</td>\n",
              "      <td>GSW</td>\n",
              "      <td>Warriors</td>\n",
              "      <td>103</td>\n",
              "      <td>1790.9591</td>\n",
              "      <td>1809.9791</td>\n",
              "      <td>H</td>\n",
              "      <td>L</td>\n",
              "      <td>0.546572</td>\n",
              "      <td>NaN</td>\n",
              "      <td>2015-06-11</td>\n",
              "    </tr>\n",
              "    <tr>\n",
              "      <th>126310</th>\n",
              "      <td>63156</td>\n",
              "      <td>201506140GSW</td>\n",
              "      <td>NBA</td>\n",
              "      <td>0</td>\n",
              "      <td>2015</td>\n",
              "      <td>6/14/2015</td>\n",
              "      <td>102</td>\n",
              "      <td>1</td>\n",
              "      <td>GSW</td>\n",
              "      <td>Warriors</td>\n",
              "      <td>104</td>\n",
              "      <td>1809.9791</td>\n",
              "      <td>1813.6349</td>\n",
              "      <td>68.013329</td>\n",
              "      <td>CLE</td>\n",
              "      <td>Cavaliers</td>\n",
              "      <td>91</td>\n",
              "      <td>1704.3949</td>\n",
              "      <td>1700.7391</td>\n",
              "      <td>H</td>\n",
              "      <td>W</td>\n",
              "      <td>0.765565</td>\n",
              "      <td>NaN</td>\n",
              "      <td>2015-06-14</td>\n",
              "    </tr>\n",
              "    <tr>\n",
              "      <th>126311</th>\n",
              "      <td>63156</td>\n",
              "      <td>201506140GSW</td>\n",
              "      <td>NBA</td>\n",
              "      <td>1</td>\n",
              "      <td>2015</td>\n",
              "      <td>6/14/2015</td>\n",
              "      <td>101</td>\n",
              "      <td>1</td>\n",
              "      <td>CLE</td>\n",
              "      <td>Cavaliers</td>\n",
              "      <td>91</td>\n",
              "      <td>1704.3949</td>\n",
              "      <td>1700.7391</td>\n",
              "      <td>60.010067</td>\n",
              "      <td>GSW</td>\n",
              "      <td>Warriors</td>\n",
              "      <td>104</td>\n",
              "      <td>1809.9791</td>\n",
              "      <td>1813.6349</td>\n",
              "      <td>A</td>\n",
              "      <td>L</td>\n",
              "      <td>0.234435</td>\n",
              "      <td>NaN</td>\n",
              "      <td>2015-06-14</td>\n",
              "    </tr>\n",
              "    <tr>\n",
              "      <th>126312</th>\n",
              "      <td>63157</td>\n",
              "      <td>201506170CLE</td>\n",
              "      <td>NBA</td>\n",
              "      <td>0</td>\n",
              "      <td>2015</td>\n",
              "      <td>6/16/2015</td>\n",
              "      <td>102</td>\n",
              "      <td>1</td>\n",
              "      <td>CLE</td>\n",
              "      <td>Cavaliers</td>\n",
              "      <td>97</td>\n",
              "      <td>1700.7391</td>\n",
              "      <td>1692.0859</td>\n",
              "      <td>59.290245</td>\n",
              "      <td>GSW</td>\n",
              "      <td>Warriors</td>\n",
              "      <td>105</td>\n",
              "      <td>1813.6349</td>\n",
              "      <td>1822.2881</td>\n",
              "      <td>H</td>\n",
              "      <td>L</td>\n",
              "      <td>0.481450</td>\n",
              "      <td>NaN</td>\n",
              "      <td>2015-06-16</td>\n",
              "    </tr>\n",
              "    <tr>\n",
              "      <th>126313</th>\n",
              "      <td>63157</td>\n",
              "      <td>201506170CLE</td>\n",
              "      <td>NBA</td>\n",
              "      <td>1</td>\n",
              "      <td>2015</td>\n",
              "      <td>6/16/2015</td>\n",
              "      <td>103</td>\n",
              "      <td>1</td>\n",
              "      <td>GSW</td>\n",
              "      <td>Warriors</td>\n",
              "      <td>105</td>\n",
              "      <td>1813.6349</td>\n",
              "      <td>1822.2881</td>\n",
              "      <td>68.519516</td>\n",
              "      <td>CLE</td>\n",
              "      <td>Cavaliers</td>\n",
              "      <td>97</td>\n",
              "      <td>1700.7391</td>\n",
              "      <td>1692.0859</td>\n",
              "      <td>A</td>\n",
              "      <td>W</td>\n",
              "      <td>0.518550</td>\n",
              "      <td>NaN</td>\n",
              "      <td>2015-06-16</td>\n",
              "    </tr>\n",
              "  </tbody>\n",
              "</table>\n",
              "<p>12658 rows × 24 columns</p>\n",
              "</div>"
            ],
            "text/plain": [
              "        gameorder       game_id lg_id  ...  forecast  notes date_played\n",
              "113656      56829  201010260BOS   NBA  ...  0.264418    NaN  2010-10-26\n",
              "113657      56829  201010260BOS   NBA  ...  0.735582    NaN  2010-10-26\n",
              "113658      56830  201010260LAL   NBA  ...  0.197632    NaN  2010-10-26\n",
              "113659      56830  201010260LAL   NBA  ...  0.802368    NaN  2010-10-26\n",
              "113660      56831  201010260POR   NBA  ...  0.485912    NaN  2010-10-26\n",
              "...           ...           ...   ...  ...       ...    ...         ...\n",
              "126309      63155  201506110CLE   NBA  ...  0.546572    NaN  2015-06-11\n",
              "126310      63156  201506140GSW   NBA  ...  0.765565    NaN  2015-06-14\n",
              "126311      63156  201506140GSW   NBA  ...  0.234435    NaN  2015-06-14\n",
              "126312      63157  201506170CLE   NBA  ...  0.481450    NaN  2015-06-16\n",
              "126313      63157  201506170CLE   NBA  ...  0.518550    NaN  2015-06-16\n",
              "\n",
              "[12658 rows x 24 columns]"
            ]
          },
          "metadata": {
            "tags": []
          },
          "execution_count": 65
        }
      ]
    },
    {
      "cell_type": "code",
      "metadata": {
        "colab": {
          "base_uri": "https://localhost:8080/"
        },
        "id": "uzY-Cv5ew5kc",
        "outputId": "9bb5f090-a4b6-4e64-8174-c34b42361c10"
      },
      "source": [
        "games_with_notes = nba[nba[\"notes\"].notnull()]\n",
        "games_with_notes.shape"
      ],
      "execution_count": 66,
      "outputs": [
        {
          "output_type": "execute_result",
          "data": {
            "text/plain": [
              "(5424, 24)"
            ]
          },
          "metadata": {
            "tags": []
          },
          "execution_count": 66
        }
      ]
    },
    {
      "cell_type": "code",
      "metadata": {
        "colab": {
          "base_uri": "https://localhost:8080/",
          "height": 355
        },
        "id": "EKzrBz5pw_Vo",
        "outputId": "7ebdc5fc-51b1-436a-a857-f697b2dc24da"
      },
      "source": [
        "games_with_notes.head()"
      ],
      "execution_count": 67,
      "outputs": [
        {
          "output_type": "execute_result",
          "data": {
            "text/html": [
              "<div>\n",
              "<style scoped>\n",
              "    .dataframe tbody tr th:only-of-type {\n",
              "        vertical-align: middle;\n",
              "    }\n",
              "\n",
              "    .dataframe tbody tr th {\n",
              "        vertical-align: top;\n",
              "    }\n",
              "\n",
              "    .dataframe thead th {\n",
              "        text-align: right;\n",
              "    }\n",
              "</style>\n",
              "<table border=\"1\" class=\"dataframe\">\n",
              "  <thead>\n",
              "    <tr style=\"text-align: right;\">\n",
              "      <th></th>\n",
              "      <th>gameorder</th>\n",
              "      <th>game_id</th>\n",
              "      <th>lg_id</th>\n",
              "      <th>_iscopy</th>\n",
              "      <th>year_id</th>\n",
              "      <th>date_game</th>\n",
              "      <th>seasongame</th>\n",
              "      <th>is_playoffs</th>\n",
              "      <th>team_id</th>\n",
              "      <th>fran_id</th>\n",
              "      <th>pts</th>\n",
              "      <th>elo_i</th>\n",
              "      <th>elo_n</th>\n",
              "      <th>win_equiv</th>\n",
              "      <th>opp_id</th>\n",
              "      <th>opp_fran</th>\n",
              "      <th>opp_pts</th>\n",
              "      <th>opp_elo_i</th>\n",
              "      <th>opp_elo_n</th>\n",
              "      <th>game_location</th>\n",
              "      <th>game_result</th>\n",
              "      <th>forecast</th>\n",
              "      <th>notes</th>\n",
              "      <th>date_played</th>\n",
              "    </tr>\n",
              "  </thead>\n",
              "  <tbody>\n",
              "    <tr>\n",
              "      <th>930</th>\n",
              "      <td>466</td>\n",
              "      <td>194801300BLB</td>\n",
              "      <td>NBA</td>\n",
              "      <td>1</td>\n",
              "      <td>1948</td>\n",
              "      <td>1/30/1948</td>\n",
              "      <td>28</td>\n",
              "      <td>0</td>\n",
              "      <td>WSC</td>\n",
              "      <td>Capitols</td>\n",
              "      <td>71</td>\n",
              "      <td>1469.3469</td>\n",
              "      <td>1454.9012</td>\n",
              "      <td>47.065742</td>\n",
              "      <td>BLB</td>\n",
              "      <td>Baltimore</td>\n",
              "      <td>95</td>\n",
              "      <td>1434.0548</td>\n",
              "      <td>1448.5005</td>\n",
              "      <td>A</td>\n",
              "      <td>L</td>\n",
              "      <td>0.407940</td>\n",
              "      <td>at Baltimore's Fifth Regiment Armory</td>\n",
              "      <td>1948-01-30</td>\n",
              "    </tr>\n",
              "    <tr>\n",
              "      <th>931</th>\n",
              "      <td>466</td>\n",
              "      <td>194801300BLB</td>\n",
              "      <td>NBA</td>\n",
              "      <td>0</td>\n",
              "      <td>1948</td>\n",
              "      <td>1/30/1948</td>\n",
              "      <td>31</td>\n",
              "      <td>0</td>\n",
              "      <td>BLB</td>\n",
              "      <td>Baltimore</td>\n",
              "      <td>95</td>\n",
              "      <td>1434.0548</td>\n",
              "      <td>1448.5005</td>\n",
              "      <td>46.407490</td>\n",
              "      <td>WSC</td>\n",
              "      <td>Capitols</td>\n",
              "      <td>71</td>\n",
              "      <td>1469.3469</td>\n",
              "      <td>1454.9012</td>\n",
              "      <td>H</td>\n",
              "      <td>W</td>\n",
              "      <td>0.592060</td>\n",
              "      <td>at Baltimore's Fifth Regiment Armory</td>\n",
              "      <td>1948-01-30</td>\n",
              "    </tr>\n",
              "    <tr>\n",
              "      <th>1084</th>\n",
              "      <td>543</td>\n",
              "      <td>194803230CHS</td>\n",
              "      <td>NBA</td>\n",
              "      <td>1</td>\n",
              "      <td>1948</td>\n",
              "      <td>3/23/1948</td>\n",
              "      <td>49</td>\n",
              "      <td>1</td>\n",
              "      <td>WSC</td>\n",
              "      <td>Capitols</td>\n",
              "      <td>70</td>\n",
              "      <td>1465.9006</td>\n",
              "      <td>1461.1990</td>\n",
              "      <td>47.710297</td>\n",
              "      <td>CHS</td>\n",
              "      <td>Stags</td>\n",
              "      <td>74</td>\n",
              "      <td>1440.7186</td>\n",
              "      <td>1445.4203</td>\n",
              "      <td>A</td>\n",
              "      <td>L</td>\n",
              "      <td>0.393962</td>\n",
              "      <td>Tiebreaker</td>\n",
              "      <td>1948-03-23</td>\n",
              "    </tr>\n",
              "    <tr>\n",
              "      <th>1085</th>\n",
              "      <td>543</td>\n",
              "      <td>194803230CHS</td>\n",
              "      <td>NBA</td>\n",
              "      <td>0</td>\n",
              "      <td>1948</td>\n",
              "      <td>3/23/1948</td>\n",
              "      <td>49</td>\n",
              "      <td>1</td>\n",
              "      <td>CHS</td>\n",
              "      <td>Stags</td>\n",
              "      <td>74</td>\n",
              "      <td>1440.7186</td>\n",
              "      <td>1445.4203</td>\n",
              "      <td>46.089687</td>\n",
              "      <td>WSC</td>\n",
              "      <td>Capitols</td>\n",
              "      <td>70</td>\n",
              "      <td>1465.9006</td>\n",
              "      <td>1461.1990</td>\n",
              "      <td>H</td>\n",
              "      <td>W</td>\n",
              "      <td>0.606038</td>\n",
              "      <td>Tiebreaker</td>\n",
              "      <td>1948-03-23</td>\n",
              "    </tr>\n",
              "    <tr>\n",
              "      <th>1088</th>\n",
              "      <td>545</td>\n",
              "      <td>194803250CHS</td>\n",
              "      <td>NBA</td>\n",
              "      <td>1</td>\n",
              "      <td>1948</td>\n",
              "      <td>3/25/1948</td>\n",
              "      <td>49</td>\n",
              "      <td>1</td>\n",
              "      <td>BLB</td>\n",
              "      <td>Baltimore</td>\n",
              "      <td>75</td>\n",
              "      <td>1477.2552</td>\n",
              "      <td>1484.3137</td>\n",
              "      <td>50.044666</td>\n",
              "      <td>CHS</td>\n",
              "      <td>Stags</td>\n",
              "      <td>72</td>\n",
              "      <td>1445.4203</td>\n",
              "      <td>1438.3618</td>\n",
              "      <td>A</td>\n",
              "      <td>W</td>\n",
              "      <td>0.403142</td>\n",
              "      <td>Tiebreaker</td>\n",
              "      <td>1948-03-25</td>\n",
              "    </tr>\n",
              "  </tbody>\n",
              "</table>\n",
              "</div>"
            ],
            "text/plain": [
              "      gameorder       game_id  ...                                 notes  date_played\n",
              "930         466  194801300BLB  ...  at Baltimore's Fifth Regiment Armory   1948-01-30\n",
              "931         466  194801300BLB  ...  at Baltimore's Fifth Regiment Armory   1948-01-30\n",
              "1084        543  194803230CHS  ...                            Tiebreaker   1948-03-23\n",
              "1085        543  194803230CHS  ...                            Tiebreaker   1948-03-23\n",
              "1088        545  194803250CHS  ...                            Tiebreaker   1948-03-25\n",
              "\n",
              "[5 rows x 24 columns]"
            ]
          },
          "metadata": {
            "tags": []
          },
          "execution_count": 67
        }
      ]
    },
    {
      "cell_type": "code",
      "metadata": {
        "colab": {
          "base_uri": "https://localhost:8080/"
        },
        "id": "ga3Q_QMgyYYp",
        "outputId": "d1743ca9-10a8-4d0a-ba1f-60a03a0bb0c5"
      },
      "source": [
        "ers = nba[nba[\"fran_id\"].str.endswith(\"ers\")]\n",
        "ers.shape"
      ],
      "execution_count": 68,
      "outputs": [
        {
          "output_type": "execute_result",
          "data": {
            "text/plain": [
              "(27797, 24)"
            ]
          },
          "metadata": {
            "tags": []
          },
          "execution_count": 68
        }
      ]
    },
    {
      "cell_type": "code",
      "metadata": {
        "colab": {
          "base_uri": "https://localhost:8080/",
          "height": 221
        },
        "id": "dMPmZjcoyj1N",
        "outputId": "e2eb6920-e71b-47f1-8ee9-04398ed2594f"
      },
      "source": [
        "ers.head()"
      ],
      "execution_count": 69,
      "outputs": [
        {
          "output_type": "execute_result",
          "data": {
            "text/html": [
              "<div>\n",
              "<style scoped>\n",
              "    .dataframe tbody tr th:only-of-type {\n",
              "        vertical-align: middle;\n",
              "    }\n",
              "\n",
              "    .dataframe tbody tr th {\n",
              "        vertical-align: top;\n",
              "    }\n",
              "\n",
              "    .dataframe thead th {\n",
              "        text-align: right;\n",
              "    }\n",
              "</style>\n",
              "<table border=\"1\" class=\"dataframe\">\n",
              "  <thead>\n",
              "    <tr style=\"text-align: right;\">\n",
              "      <th></th>\n",
              "      <th>gameorder</th>\n",
              "      <th>game_id</th>\n",
              "      <th>lg_id</th>\n",
              "      <th>_iscopy</th>\n",
              "      <th>year_id</th>\n",
              "      <th>date_game</th>\n",
              "      <th>seasongame</th>\n",
              "      <th>is_playoffs</th>\n",
              "      <th>team_id</th>\n",
              "      <th>fran_id</th>\n",
              "      <th>pts</th>\n",
              "      <th>elo_i</th>\n",
              "      <th>elo_n</th>\n",
              "      <th>win_equiv</th>\n",
              "      <th>opp_id</th>\n",
              "      <th>opp_fran</th>\n",
              "      <th>opp_pts</th>\n",
              "      <th>opp_elo_i</th>\n",
              "      <th>opp_elo_n</th>\n",
              "      <th>game_location</th>\n",
              "      <th>game_result</th>\n",
              "      <th>forecast</th>\n",
              "      <th>notes</th>\n",
              "      <th>date_played</th>\n",
              "    </tr>\n",
              "  </thead>\n",
              "  <tbody>\n",
              "    <tr>\n",
              "      <th>7</th>\n",
              "      <td>4</td>\n",
              "      <td>194611020PRO</td>\n",
              "      <td>NBA</td>\n",
              "      <td>0</td>\n",
              "      <td>1947</td>\n",
              "      <td>11/2/1946</td>\n",
              "      <td>1</td>\n",
              "      <td>0</td>\n",
              "      <td>PRO</td>\n",
              "      <td>Steamrollers</td>\n",
              "      <td>59</td>\n",
              "      <td>1300.0000</td>\n",
              "      <td>1305.1542</td>\n",
              "      <td>41.540619</td>\n",
              "      <td>BOS</td>\n",
              "      <td>Celtics</td>\n",
              "      <td>53</td>\n",
              "      <td>1300.0000</td>\n",
              "      <td>1294.8458</td>\n",
              "      <td>H</td>\n",
              "      <td>W</td>\n",
              "      <td>0.640065</td>\n",
              "      <td>NaN</td>\n",
              "      <td>1946-11-02</td>\n",
              "    </tr>\n",
              "    <tr>\n",
              "      <th>9</th>\n",
              "      <td>5</td>\n",
              "      <td>194611020STB</td>\n",
              "      <td>NBA</td>\n",
              "      <td>0</td>\n",
              "      <td>1947</td>\n",
              "      <td>11/2/1946</td>\n",
              "      <td>1</td>\n",
              "      <td>0</td>\n",
              "      <td>STB</td>\n",
              "      <td>Bombers</td>\n",
              "      <td>56</td>\n",
              "      <td>1300.0000</td>\n",
              "      <td>1304.6908</td>\n",
              "      <td>41.492020</td>\n",
              "      <td>PIT</td>\n",
              "      <td>Ironmen</td>\n",
              "      <td>51</td>\n",
              "      <td>1300.0000</td>\n",
              "      <td>1295.3092</td>\n",
              "      <td>H</td>\n",
              "      <td>W</td>\n",
              "      <td>0.640065</td>\n",
              "      <td>NaN</td>\n",
              "      <td>1946-11-02</td>\n",
              "    </tr>\n",
              "    <tr>\n",
              "      <th>16</th>\n",
              "      <td>9</td>\n",
              "      <td>194611050DTF</td>\n",
              "      <td>NBA</td>\n",
              "      <td>1</td>\n",
              "      <td>1947</td>\n",
              "      <td>11/5/1946</td>\n",
              "      <td>2</td>\n",
              "      <td>0</td>\n",
              "      <td>STB</td>\n",
              "      <td>Bombers</td>\n",
              "      <td>53</td>\n",
              "      <td>1304.6908</td>\n",
              "      <td>1312.8473</td>\n",
              "      <td>42.347137</td>\n",
              "      <td>DTF</td>\n",
              "      <td>Falcons</td>\n",
              "      <td>49</td>\n",
              "      <td>1279.6189</td>\n",
              "      <td>1271.4624</td>\n",
              "      <td>A</td>\n",
              "      <td>W</td>\n",
              "      <td>0.393811</td>\n",
              "      <td>NaN</td>\n",
              "      <td>1946-11-05</td>\n",
              "    </tr>\n",
              "    <tr>\n",
              "      <th>20</th>\n",
              "      <td>11</td>\n",
              "      <td>194611070PRO</td>\n",
              "      <td>NBA</td>\n",
              "      <td>0</td>\n",
              "      <td>1947</td>\n",
              "      <td>11/7/1946</td>\n",
              "      <td>2</td>\n",
              "      <td>0</td>\n",
              "      <td>PRO</td>\n",
              "      <td>Steamrollers</td>\n",
              "      <td>73</td>\n",
              "      <td>1305.1542</td>\n",
              "      <td>1311.5032</td>\n",
              "      <td>42.206284</td>\n",
              "      <td>CHS</td>\n",
              "      <td>Stags</td>\n",
              "      <td>65</td>\n",
              "      <td>1316.0840</td>\n",
              "      <td>1309.7350</td>\n",
              "      <td>H</td>\n",
              "      <td>W</td>\n",
              "      <td>0.625446</td>\n",
              "      <td>NaN</td>\n",
              "      <td>1946-11-07</td>\n",
              "    </tr>\n",
              "    <tr>\n",
              "      <th>22</th>\n",
              "      <td>12</td>\n",
              "      <td>194611070STB</td>\n",
              "      <td>NBA</td>\n",
              "      <td>0</td>\n",
              "      <td>1947</td>\n",
              "      <td>11/7/1946</td>\n",
              "      <td>3</td>\n",
              "      <td>0</td>\n",
              "      <td>STB</td>\n",
              "      <td>Bombers</td>\n",
              "      <td>63</td>\n",
              "      <td>1312.8473</td>\n",
              "      <td>1302.5988</td>\n",
              "      <td>41.272594</td>\n",
              "      <td>NYK</td>\n",
              "      <td>Knicks</td>\n",
              "      <td>68</td>\n",
              "      <td>1297.0712</td>\n",
              "      <td>1307.3197</td>\n",
              "      <td>H</td>\n",
              "      <td>L</td>\n",
              "      <td>0.660710</td>\n",
              "      <td>NaN</td>\n",
              "      <td>1946-11-07</td>\n",
              "    </tr>\n",
              "  </tbody>\n",
              "</table>\n",
              "</div>"
            ],
            "text/plain": [
              "    gameorder       game_id lg_id  ...  forecast  notes date_played\n",
              "7           4  194611020PRO   NBA  ...  0.640065    NaN  1946-11-02\n",
              "9           5  194611020STB   NBA  ...  0.640065    NaN  1946-11-02\n",
              "16          9  194611050DTF   NBA  ...  0.393811    NaN  1946-11-05\n",
              "20         11  194611070PRO   NBA  ...  0.625446    NaN  1946-11-07\n",
              "22         12  194611070STB   NBA  ...  0.660710    NaN  1946-11-07\n",
              "\n",
              "[5 rows x 24 columns]"
            ]
          },
          "metadata": {
            "tags": []
          },
          "execution_count": 69
        }
      ]
    },
    {
      "cell_type": "markdown",
      "metadata": {
        "id": "bzHNRMI1yuGP"
      },
      "source": [
        "Anda dapat menggunakan .str.endswith()untuk memfilter kumpulan data Anda dan menemukan semua game yang nama tim tuan rumah diakhiri dengan \"ers\"."
      ]
    },
    {
      "cell_type": "markdown",
      "metadata": {
        "id": "naJq-bguy3yF"
      },
      "source": [
        "Lakukan pencarian untuk game Baltimore di mana kedua tim mencetak lebih dari 100 poin. Untuk melihat setiap game hanya sekali, Anda harus mengecualikan duplikat:"
      ]
    },
    {
      "cell_type": "code",
      "metadata": {
        "colab": {
          "base_uri": "https://localhost:8080/",
          "height": 271
        },
        "id": "qJZ8LjC5ytPL",
        "outputId": "74fda35e-8cbe-4160-8560-9ab044a584ca"
      },
      "source": [
        "nba[\n",
        "(nba[\"_iscopy\"] == 0) &\n",
        "(nba[\"pts\"] > 100) &\n",
        "(nba[\"opp_pts\"] > 100) &\n",
        "(nba[\"team_id\"] == \"BLB\")\n",
        "]"
      ],
      "execution_count": 70,
      "outputs": [
        {
          "output_type": "execute_result",
          "data": {
            "text/html": [
              "<div>\n",
              "<style scoped>\n",
              "    .dataframe tbody tr th:only-of-type {\n",
              "        vertical-align: middle;\n",
              "    }\n",
              "\n",
              "    .dataframe tbody tr th {\n",
              "        vertical-align: top;\n",
              "    }\n",
              "\n",
              "    .dataframe thead th {\n",
              "        text-align: right;\n",
              "    }\n",
              "</style>\n",
              "<table border=\"1\" class=\"dataframe\">\n",
              "  <thead>\n",
              "    <tr style=\"text-align: right;\">\n",
              "      <th></th>\n",
              "      <th>gameorder</th>\n",
              "      <th>game_id</th>\n",
              "      <th>lg_id</th>\n",
              "      <th>_iscopy</th>\n",
              "      <th>year_id</th>\n",
              "      <th>date_game</th>\n",
              "      <th>seasongame</th>\n",
              "      <th>is_playoffs</th>\n",
              "      <th>team_id</th>\n",
              "      <th>fran_id</th>\n",
              "      <th>pts</th>\n",
              "      <th>elo_i</th>\n",
              "      <th>elo_n</th>\n",
              "      <th>win_equiv</th>\n",
              "      <th>opp_id</th>\n",
              "      <th>opp_fran</th>\n",
              "      <th>opp_pts</th>\n",
              "      <th>opp_elo_i</th>\n",
              "      <th>opp_elo_n</th>\n",
              "      <th>game_location</th>\n",
              "      <th>game_result</th>\n",
              "      <th>forecast</th>\n",
              "      <th>notes</th>\n",
              "      <th>date_played</th>\n",
              "    </tr>\n",
              "  </thead>\n",
              "  <tbody>\n",
              "    <tr>\n",
              "      <th>1726</th>\n",
              "      <td>864</td>\n",
              "      <td>194902260BLB</td>\n",
              "      <td>NBA</td>\n",
              "      <td>0</td>\n",
              "      <td>1949</td>\n",
              "      <td>2/26/1949</td>\n",
              "      <td>53</td>\n",
              "      <td>0</td>\n",
              "      <td>BLB</td>\n",
              "      <td>Baltimore</td>\n",
              "      <td>114</td>\n",
              "      <td>1421.9351</td>\n",
              "      <td>1419.4280</td>\n",
              "      <td>38.557545</td>\n",
              "      <td>MNL</td>\n",
              "      <td>Lakers</td>\n",
              "      <td>115</td>\n",
              "      <td>1637.9852</td>\n",
              "      <td>1640.4923</td>\n",
              "      <td>H</td>\n",
              "      <td>L</td>\n",
              "      <td>0.338936</td>\n",
              "      <td>NaN</td>\n",
              "      <td>1949-02-26</td>\n",
              "    </tr>\n",
              "    <tr>\n",
              "      <th>4890</th>\n",
              "      <td>2446</td>\n",
              "      <td>195301100BLB</td>\n",
              "      <td>NBA</td>\n",
              "      <td>0</td>\n",
              "      <td>1953</td>\n",
              "      <td>1/10/1953</td>\n",
              "      <td>32</td>\n",
              "      <td>0</td>\n",
              "      <td>BLB</td>\n",
              "      <td>Baltimore</td>\n",
              "      <td>126</td>\n",
              "      <td>1328.6687</td>\n",
              "      <td>1356.6470</td>\n",
              "      <td>25.797792</td>\n",
              "      <td>BOS</td>\n",
              "      <td>Celtics</td>\n",
              "      <td>105</td>\n",
              "      <td>1591.1434</td>\n",
              "      <td>1563.1652</td>\n",
              "      <td>H</td>\n",
              "      <td>W</td>\n",
              "      <td>0.281855</td>\n",
              "      <td>NaN</td>\n",
              "      <td>1953-01-10</td>\n",
              "    </tr>\n",
              "    <tr>\n",
              "      <th>4909</th>\n",
              "      <td>2455</td>\n",
              "      <td>195301140BLB</td>\n",
              "      <td>NBA</td>\n",
              "      <td>0</td>\n",
              "      <td>1953</td>\n",
              "      <td>1/14/1953</td>\n",
              "      <td>34</td>\n",
              "      <td>0</td>\n",
              "      <td>BLB</td>\n",
              "      <td>Baltimore</td>\n",
              "      <td>104</td>\n",
              "      <td>1349.8323</td>\n",
              "      <td>1346.3594</td>\n",
              "      <td>24.876236</td>\n",
              "      <td>MNL</td>\n",
              "      <td>Lakers</td>\n",
              "      <td>112</td>\n",
              "      <td>1665.4396</td>\n",
              "      <td>1668.9125</td>\n",
              "      <td>H</td>\n",
              "      <td>L</td>\n",
              "      <td>0.224238</td>\n",
              "      <td>NaN</td>\n",
              "      <td>1953-01-14</td>\n",
              "    </tr>\n",
              "    <tr>\n",
              "      <th>5208</th>\n",
              "      <td>2605</td>\n",
              "      <td>195303110BLB</td>\n",
              "      <td>NBA</td>\n",
              "      <td>0</td>\n",
              "      <td>1953</td>\n",
              "      <td>3/11/1953</td>\n",
              "      <td>66</td>\n",
              "      <td>0</td>\n",
              "      <td>BLB</td>\n",
              "      <td>Baltimore</td>\n",
              "      <td>107</td>\n",
              "      <td>1284.5239</td>\n",
              "      <td>1282.2396</td>\n",
              "      <td>19.579676</td>\n",
              "      <td>NYK</td>\n",
              "      <td>Knicks</td>\n",
              "      <td>113</td>\n",
              "      <td>1649.1516</td>\n",
              "      <td>1651.4359</td>\n",
              "      <td>H</td>\n",
              "      <td>L</td>\n",
              "      <td>0.178973</td>\n",
              "      <td>at Boston MA</td>\n",
              "      <td>1953-03-11</td>\n",
              "    </tr>\n",
              "    <tr>\n",
              "      <th>5825</th>\n",
              "      <td>2913</td>\n",
              "      <td>195402220BLB</td>\n",
              "      <td>NBA</td>\n",
              "      <td>0</td>\n",
              "      <td>1954</td>\n",
              "      <td>2/22/1954</td>\n",
              "      <td>60</td>\n",
              "      <td>0</td>\n",
              "      <td>BLB</td>\n",
              "      <td>Baltimore</td>\n",
              "      <td>110</td>\n",
              "      <td>1303.7493</td>\n",
              "      <td>1301.9685</td>\n",
              "      <td>20.736986</td>\n",
              "      <td>BOS</td>\n",
              "      <td>Celtics</td>\n",
              "      <td>111</td>\n",
              "      <td>1591.4943</td>\n",
              "      <td>1593.2749</td>\n",
              "      <td>H</td>\n",
              "      <td>L</td>\n",
              "      <td>0.253365</td>\n",
              "      <td>at Worcester MA</td>\n",
              "      <td>1954-02-22</td>\n",
              "    </tr>\n",
              "  </tbody>\n",
              "</table>\n",
              "</div>"
            ],
            "text/plain": [
              "      gameorder       game_id lg_id  ...  forecast            notes date_played\n",
              "1726        864  194902260BLB   NBA  ...  0.338936              NaN  1949-02-26\n",
              "4890       2446  195301100BLB   NBA  ...  0.281855              NaN  1953-01-10\n",
              "4909       2455  195301140BLB   NBA  ...  0.224238              NaN  1953-01-14\n",
              "5208       2605  195303110BLB   NBA  ...  0.178973     at Boston MA  1953-03-11\n",
              "5825       2913  195402220BLB   NBA  ...  0.253365  at Worcester MA  1954-02-22\n",
              "\n",
              "[5 rows x 24 columns]"
            ]
          },
          "metadata": {
            "tags": []
          },
          "execution_count": 70
        }
      ]
    },
    {
      "cell_type": "markdown",
      "metadata": {
        "id": "1Nj-a-ldzHH6"
      },
      "source": [
        "Di sini, Anda gunakan nba[\"_iscopy\"] == 0 untuk menyertakan hanya entri yang bukan salinan."
      ]
    },
    {
      "cell_type": "code",
      "metadata": {
        "colab": {
          "base_uri": "https://localhost:8080/",
          "height": 230
        },
        "id": "oZNYgcY-zQVw",
        "outputId": "99c637ee-b0f2-48da-dd7e-7dbd77207239"
      },
      "source": [
        "nba[\n",
        "(nba[\"_iscopy\"] == 0) &\n",
        "(nba[\"team_id\"].str.startswith(\"LA\")) &\n",
        "(nba[\"year_id\"]==1992) &\n",
        "(nba[\"notes\"].notnull())\n",
        "]"
      ],
      "execution_count": 71,
      "outputs": [
        {
          "output_type": "execute_result",
          "data": {
            "text/html": [
              "<div>\n",
              "<style scoped>\n",
              "    .dataframe tbody tr th:only-of-type {\n",
              "        vertical-align: middle;\n",
              "    }\n",
              "\n",
              "    .dataframe tbody tr th {\n",
              "        vertical-align: top;\n",
              "    }\n",
              "\n",
              "    .dataframe thead th {\n",
              "        text-align: right;\n",
              "    }\n",
              "</style>\n",
              "<table border=\"1\" class=\"dataframe\">\n",
              "  <thead>\n",
              "    <tr style=\"text-align: right;\">\n",
              "      <th></th>\n",
              "      <th>gameorder</th>\n",
              "      <th>game_id</th>\n",
              "      <th>lg_id</th>\n",
              "      <th>_iscopy</th>\n",
              "      <th>year_id</th>\n",
              "      <th>date_game</th>\n",
              "      <th>seasongame</th>\n",
              "      <th>is_playoffs</th>\n",
              "      <th>team_id</th>\n",
              "      <th>fran_id</th>\n",
              "      <th>pts</th>\n",
              "      <th>elo_i</th>\n",
              "      <th>elo_n</th>\n",
              "      <th>win_equiv</th>\n",
              "      <th>opp_id</th>\n",
              "      <th>opp_fran</th>\n",
              "      <th>opp_pts</th>\n",
              "      <th>opp_elo_i</th>\n",
              "      <th>opp_elo_n</th>\n",
              "      <th>game_location</th>\n",
              "      <th>game_result</th>\n",
              "      <th>forecast</th>\n",
              "      <th>notes</th>\n",
              "      <th>date_played</th>\n",
              "    </tr>\n",
              "  </thead>\n",
              "  <tbody>\n",
              "    <tr>\n",
              "      <th>68901</th>\n",
              "      <td>34451</td>\n",
              "      <td>199205030LAC</td>\n",
              "      <td>NBA</td>\n",
              "      <td>0</td>\n",
              "      <td>1992</td>\n",
              "      <td>5/3/1992</td>\n",
              "      <td>86</td>\n",
              "      <td>1</td>\n",
              "      <td>LAC</td>\n",
              "      <td>Clippers</td>\n",
              "      <td>115</td>\n",
              "      <td>1546.9009</td>\n",
              "      <td>1556.0005</td>\n",
              "      <td>47.888252</td>\n",
              "      <td>UTA</td>\n",
              "      <td>Jazz</td>\n",
              "      <td>107</td>\n",
              "      <td>1647.5092</td>\n",
              "      <td>1638.4095</td>\n",
              "      <td>H</td>\n",
              "      <td>W</td>\n",
              "      <td>0.499125</td>\n",
              "      <td>at Anaheim, CA (Anaheim Convention Center)</td>\n",
              "      <td>1992-05-03</td>\n",
              "    </tr>\n",
              "    <tr>\n",
              "      <th>68903</th>\n",
              "      <td>34452</td>\n",
              "      <td>199205030LAL</td>\n",
              "      <td>NBA</td>\n",
              "      <td>0</td>\n",
              "      <td>1992</td>\n",
              "      <td>5/3/1992</td>\n",
              "      <td>86</td>\n",
              "      <td>1</td>\n",
              "      <td>LAL</td>\n",
              "      <td>Lakers</td>\n",
              "      <td>76</td>\n",
              "      <td>1489.6460</td>\n",
              "      <td>1474.3994</td>\n",
              "      <td>39.395412</td>\n",
              "      <td>POR</td>\n",
              "      <td>Trailblazers</td>\n",
              "      <td>102</td>\n",
              "      <td>1655.1210</td>\n",
              "      <td>1670.3677</td>\n",
              "      <td>H</td>\n",
              "      <td>L</td>\n",
              "      <td>0.406874</td>\n",
              "      <td>at Las Vegas, NV</td>\n",
              "      <td>1992-05-03</td>\n",
              "    </tr>\n",
              "  </tbody>\n",
              "</table>\n",
              "</div>"
            ],
            "text/plain": [
              "       gameorder  ... date_played\n",
              "68901      34451  ...  1992-05-03\n",
              "68903      34452  ...  1992-05-03\n",
              "\n",
              "[2 rows x 24 columns]"
            ]
          },
          "metadata": {
            "tags": []
          },
          "execution_count": 71
        }
      ]
    },
    {
      "cell_type": "markdown",
      "metadata": {
        "id": "Pd7ekxNt19DA"
      },
      "source": [
        "#Grouping and Aggregating Your Data"
      ]
    },
    {
      "cell_type": "markdown",
      "metadata": {
        "id": "Ra6G_-Vx2IgY"
      },
      "source": [
        "Series memiliki lebih dari dua puluh metode berbeda untuk menghitung statistik deskriptif. Berikut beberapa contohnya:"
      ]
    },
    {
      "cell_type": "code",
      "metadata": {
        "colab": {
          "base_uri": "https://localhost:8080/"
        },
        "id": "s6PtXlRb1vmZ",
        "outputId": "2ff4ea22-c60d-4b00-f315-394a9d7b9b13"
      },
      "source": [
        "city_revenues.sum()"
      ],
      "execution_count": 72,
      "outputs": [
        {
          "output_type": "execute_result",
          "data": {
            "text/plain": [
              "18700"
            ]
          },
          "metadata": {
            "tags": []
          },
          "execution_count": 72
        }
      ]
    },
    {
      "cell_type": "code",
      "metadata": {
        "colab": {
          "base_uri": "https://localhost:8080/"
        },
        "id": "I8AKs6Kw2OoF",
        "outputId": "71c2774a-4f55-4709-aec9-53e308a9b6c9"
      },
      "source": [
        "city_revenues.max()"
      ],
      "execution_count": 73,
      "outputs": [
        {
          "output_type": "execute_result",
          "data": {
            "text/plain": [
              "8000"
            ]
          },
          "metadata": {
            "tags": []
          },
          "execution_count": 73
        }
      ]
    },
    {
      "cell_type": "markdown",
      "metadata": {
        "id": "f6J2Oupy2cQ6"
      },
      "source": [
        "kita coba dengan data nba"
      ]
    },
    {
      "cell_type": "code",
      "metadata": {
        "id": "7pDGBlD-2fD7"
      },
      "source": [
        "points = nba[\"pts\"]"
      ],
      "execution_count": 74,
      "outputs": []
    },
    {
      "cell_type": "code",
      "metadata": {
        "colab": {
          "base_uri": "https://localhost:8080/"
        },
        "id": "SRT7DJ5_2iP-",
        "outputId": "560979db-0bb4-49a7-f59e-fcde23d0c695"
      },
      "source": [
        "type(points)"
      ],
      "execution_count": 75,
      "outputs": [
        {
          "output_type": "execute_result",
          "data": {
            "text/plain": [
              "pandas.core.series.Series"
            ]
          },
          "metadata": {
            "tags": []
          },
          "execution_count": 75
        }
      ]
    },
    {
      "cell_type": "code",
      "metadata": {
        "colab": {
          "base_uri": "https://localhost:8080/"
        },
        "id": "DPdQbuiJ2kuf",
        "outputId": "37f47760-5fd6-41ed-cba2-be23830a701c"
      },
      "source": [
        "points.sum()"
      ],
      "execution_count": 76,
      "outputs": [
        {
          "output_type": "execute_result",
          "data": {
            "text/plain": [
              "12976235"
            ]
          },
          "metadata": {
            "tags": []
          },
          "execution_count": 76
        }
      ]
    },
    {
      "cell_type": "markdown",
      "metadata": {
        "id": "VKENB6b_2oz1"
      },
      "source": [
        "sebuah DataFrame dapat memiliki beberapa kolom, yang memperkenalkan kemungkinan baru untuk agregasi, seperti grouping :"
      ]
    },
    {
      "cell_type": "code",
      "metadata": {
        "colab": {
          "base_uri": "https://localhost:8080/"
        },
        "id": "GypE6YHP2n-k",
        "outputId": "dd906232-c1c3-4182-f609-ad37907c99c9"
      },
      "source": [
        "nba.groupby(\"fran_id\", sort=False)[\"pts\"].sum()"
      ],
      "execution_count": 77,
      "outputs": [
        {
          "output_type": "execute_result",
          "data": {
            "text/plain": [
              "fran_id\n",
              "Huskies           3995\n",
              "Knicks          582497\n",
              "Stags            20398\n",
              "Falcons           3797\n",
              "Capitols         22387\n",
              "Celtics         626484\n",
              "Steamrollers     12372\n",
              "Ironmen           3674\n",
              "Bombers          17793\n",
              "Rebels            4474\n",
              "Warriors        591224\n",
              "Baltimore        37219\n",
              "Jets              4482\n",
              "Pistons         572758\n",
              "Lakers          637444\n",
              "Kings           569245\n",
              "Hawks           567261\n",
              "Denver            4818\n",
              "Olympians        22864\n",
              "Redskins          5372\n",
              "Waterloo          4921\n",
              "Packers           6193\n",
              "Sixers          585891\n",
              "Wizards         474809\n",
              "Bulls           437269\n",
              "Thunder         437735\n",
              "Squires          91127\n",
              "Stars            84940\n",
              "Rockets         432504\n",
              "Colonels         94435\n",
              "Pacers          438288\n",
              "Nuggets         445780\n",
              "Spurs           453822\n",
              "Spirits          85874\n",
              "Sounds           75582\n",
              "Floridians       49568\n",
              "Nets            417809\n",
              "Condors          49642\n",
              "Bucks           418326\n",
              "Suns            437486\n",
              "Clippers        380523\n",
              "Cavaliers       380416\n",
              "Trailblazers    402695\n",
              "Sails            30080\n",
              "Jazz            363155\n",
              "Mavericks       309239\n",
              "Pelicans        220794\n",
              "Heat            229103\n",
              "Timberwolves    207693\n",
              "Magic           219436\n",
              "Grizzlies       157683\n",
              "Raptors         158370\n",
              "Hornets          84489\n",
              "Name: pts, dtype: int64"
            ]
          },
          "metadata": {
            "tags": []
          },
          "execution_count": 77
        }
      ]
    },
    {
      "cell_type": "code",
      "metadata": {
        "colab": {
          "base_uri": "https://localhost:8080/"
        },
        "id": "-KWWSO9Q22Nx",
        "outputId": "66394856-34e2-4cb1-eb29-87becceaea01"
      },
      "source": [
        "nba[\n",
        "(nba[\"fran_id\"] == \"Spurs\") &\n",
        "(nba[\"year_id\"] > 2010)\n",
        "].groupby([\"year_id\", \"game_result\"])[\"game_id\"].count()"
      ],
      "execution_count": 78,
      "outputs": [
        {
          "output_type": "execute_result",
          "data": {
            "text/plain": [
              "year_id  game_result\n",
              "2011     L              25\n",
              "         W              63\n",
              "2012     L              20\n",
              "         W              60\n",
              "2013     L              30\n",
              "         W              73\n",
              "2014     L              27\n",
              "         W              78\n",
              "2015     L              31\n",
              "         W              58\n",
              "Name: game_id, dtype: int64"
            ]
          },
          "metadata": {
            "tags": []
          },
          "execution_count": 78
        }
      ]
    },
    {
      "cell_type": "markdown",
      "metadata": {
        "id": "-j0NgngU3WcC"
      },
      "source": [
        "Lihatlah musim 2014-15 Golden State Warriors ( year_id: 2015). Berapa banyak kemenangan dan kekalahan yang mereka cetak selama musim reguler dan babak playoff?"
      ]
    },
    {
      "cell_type": "code",
      "metadata": {
        "colab": {
          "base_uri": "https://localhost:8080/"
        },
        "id": "vS5lDdUy3XcU",
        "outputId": "1256f687-56b4-4e93-fb9e-944cbc4066de"
      },
      "source": [
        "nba[\n",
        "(nba[\"fran_id\"] == \"Warriors\") &\n",
        "(nba[\"year_id\"] == 2015)\n",
        "].groupby([\"is_playoffs\", \"game_result\"])[\"game_id\"].count()"
      ],
      "execution_count": 79,
      "outputs": [
        {
          "output_type": "execute_result",
          "data": {
            "text/plain": [
              "is_playoffs  game_result\n",
              "0            L              15\n",
              "             W              67\n",
              "1            L               5\n",
              "             W              16\n",
              "Name: game_id, dtype: int64"
            ]
          },
          "metadata": {
            "tags": []
          },
          "execution_count": 79
        }
      ]
    },
    {
      "cell_type": "markdown",
      "metadata": {
        "id": "2ywKZmEm3lhU"
      },
      "source": [
        "is_playoffs=0 menunjukkan hasil untuk musim reguler, dan is_playoffs=1 menunjukkan hasil untuk babak playoff."
      ]
    },
    {
      "cell_type": "markdown",
      "metadata": {
        "id": "06FF7VFe3xNK"
      },
      "source": [
        "#Manipulating Columns"
      ]
    },
    {
      "cell_type": "markdown",
      "metadata": {
        "id": "VHVFogfL35C0"
      },
      "source": [
        "Anda harus tahu cara memanipulasi kolom kumpulan data Anda dalam berbagai fase proses analisis data. Anda dapat menambahkan dan melepaskan kolom sebagai bagian dari fase pembersihan data awal , atau lebih baru berdasarkan wawasan analisis Anda."
      ]
    },
    {
      "cell_type": "markdown",
      "metadata": {
        "id": "CwKABLaT4BwP"
      },
      "source": [
        "Buat salinan asli Anda DataFrameuntuk bekerja dengan:"
      ]
    },
    {
      "cell_type": "code",
      "metadata": {
        "colab": {
          "base_uri": "https://localhost:8080/"
        },
        "id": "OKddxPIC3y7n",
        "outputId": "4352e590-3a82-4caf-e18e-6e87f72145c5"
      },
      "source": [
        "df = nba.copy()\n",
        "df.shape"
      ],
      "execution_count": 80,
      "outputs": [
        {
          "output_type": "execute_result",
          "data": {
            "text/plain": [
              "(126314, 24)"
            ]
          },
          "metadata": {
            "tags": []
          },
          "execution_count": 80
        }
      ]
    },
    {
      "cell_type": "markdown",
      "metadata": {
        "id": "n0SKQrdV4IeG"
      },
      "source": [
        "Anda dapat menentukan kolom baru berdasarkan yang sudah ada:"
      ]
    },
    {
      "cell_type": "code",
      "metadata": {
        "colab": {
          "base_uri": "https://localhost:8080/"
        },
        "id": "L4Mur3Kg4GF_",
        "outputId": "032da6fb-45eb-472d-de58-be6868b8733d"
      },
      "source": [
        "df[\"difference\"] = df.pts - df.opp_pts\n",
        "df.shape"
      ],
      "execution_count": 81,
      "outputs": [
        {
          "output_type": "execute_result",
          "data": {
            "text/plain": [
              "(126314, 25)"
            ]
          },
          "metadata": {
            "tags": []
          },
          "execution_count": 81
        }
      ]
    },
    {
      "cell_type": "markdown",
      "metadata": {
        "id": "Lxwn_Uef4Pct"
      },
      "source": [
        "Di sini, Anda menggunakan \"pts\"dan \"opp_pts\"kolom untuk membuat yang baru bernama \"difference\". Kolom baru ini memiliki fungsi yang sama dengan yang lama:"
      ]
    },
    {
      "cell_type": "code",
      "metadata": {
        "colab": {
          "base_uri": "https://localhost:8080/"
        },
        "id": "ag9U1G6u4QEv",
        "outputId": "10b15d27-1a42-449c-e6c6-df4b3bff7945"
      },
      "source": [
        "df[\"difference\"].max()"
      ],
      "execution_count": 82,
      "outputs": [
        {
          "output_type": "execute_result",
          "data": {
            "text/plain": [
              "68"
            ]
          },
          "metadata": {
            "tags": []
          },
          "execution_count": 82
        }
      ]
    },
    {
      "cell_type": "markdown",
      "metadata": {
        "id": "AZuEAGjT4U7p"
      },
      "source": [
        "Di sini, Anda menggunakan fungsi agregasi .max() untuk menemukan nilai terbesar dari kolom baru Anda."
      ]
    },
    {
      "cell_type": "markdown",
      "metadata": {
        "id": "z4M9EZvo4aDa"
      },
      "source": [
        "Anda juga dapat mengganti nama kolom kumpulan data Anda. Tampaknya \"game_result\" dan \"game_location\" terlalu bertele-tele, jadi lanjutkan dan ganti namanya sekarang:"
      ]
    },
    {
      "cell_type": "code",
      "metadata": {
        "colab": {
          "base_uri": "https://localhost:8080/"
        },
        "id": "gd6-JnC34a8i",
        "outputId": "28407bd3-81cd-4d80-8007-fec137bf7fb8"
      },
      "source": [
        "renamed_df = df.rename(\n",
        "columns={\"game_result\": \"result\", \"game_location\": \"location\"}\n",
        ")\n",
        "\n",
        "renamed_df.info()"
      ],
      "execution_count": 83,
      "outputs": [
        {
          "output_type": "stream",
          "text": [
            "<class 'pandas.core.frame.DataFrame'>\n",
            "RangeIndex: 126314 entries, 0 to 126313\n",
            "Data columns (total 25 columns):\n",
            " #   Column       Non-Null Count   Dtype         \n",
            "---  ------       --------------   -----         \n",
            " 0   gameorder    126314 non-null  int64         \n",
            " 1   game_id      126314 non-null  object        \n",
            " 2   lg_id        126314 non-null  object        \n",
            " 3   _iscopy      126314 non-null  int64         \n",
            " 4   year_id      126314 non-null  int64         \n",
            " 5   date_game    126314 non-null  object        \n",
            " 6   seasongame   126314 non-null  int64         \n",
            " 7   is_playoffs  126314 non-null  int64         \n",
            " 8   team_id      126314 non-null  object        \n",
            " 9   fran_id      126314 non-null  object        \n",
            " 10  pts          126314 non-null  int64         \n",
            " 11  elo_i        126314 non-null  float64       \n",
            " 12  elo_n        126314 non-null  float64       \n",
            " 13  win_equiv    126314 non-null  float64       \n",
            " 14  opp_id       126314 non-null  object        \n",
            " 15  opp_fran     126314 non-null  object        \n",
            " 16  opp_pts      126314 non-null  int64         \n",
            " 17  opp_elo_i    126314 non-null  float64       \n",
            " 18  opp_elo_n    126314 non-null  float64       \n",
            " 19  location     126314 non-null  object        \n",
            " 20  result       126314 non-null  object        \n",
            " 21  forecast     126314 non-null  float64       \n",
            " 22  notes        5424 non-null    object        \n",
            " 23  date_played  126314 non-null  datetime64[ns]\n",
            " 24  difference   126314 non-null  int64         \n",
            "dtypes: datetime64[ns](1), float64(6), int64(8), object(10)\n",
            "memory usage: 24.1+ MB\n"
          ],
          "name": "stdout"
        }
      ]
    },
    {
      "cell_type": "markdown",
      "metadata": {
        "id": "GrFRc1Xz4tOM"
      },
      "source": [
        "Perhatikan bahwa ada objek baru, renamed_df. Seperti beberapa metode manipulasi data lainnya, .rename() mengembalikan DataFrame yang baru secara default. Jika Anda ingin memanipulasi DataFrame yang asli secara langsung, maka sediakan .rename() serta inplace parameter yang dapat Anda atur ke True."
      ]
    },
    {
      "cell_type": "markdown",
      "metadata": {
        "id": "TkJ9Z8-J5KnJ"
      },
      "source": [
        "Anda dapat menghapus empat kolom yang terkait dengan Elo:"
      ]
    },
    {
      "cell_type": "code",
      "metadata": {
        "colab": {
          "base_uri": "https://localhost:8080/"
        },
        "id": "jWbjXhmk5NFE",
        "outputId": "f8a885a1-0909-482f-de6c-67262faa902a"
      },
      "source": [
        "df.shape"
      ],
      "execution_count": 84,
      "outputs": [
        {
          "output_type": "execute_result",
          "data": {
            "text/plain": [
              "(126314, 25)"
            ]
          },
          "metadata": {
            "tags": []
          },
          "execution_count": 84
        }
      ]
    },
    {
      "cell_type": "code",
      "metadata": {
        "id": "DAQPisDz5O7S"
      },
      "source": [
        "elo_columns = [\"elo_i\", \"elo_n\", \"opp_elo_i\", \"opp_elo_n\"]"
      ],
      "execution_count": 85,
      "outputs": []
    },
    {
      "cell_type": "code",
      "metadata": {
        "id": "znsnmURe5Qym"
      },
      "source": [
        "df.drop(elo_columns, inplace=True, axis=1)"
      ],
      "execution_count": 86,
      "outputs": []
    },
    {
      "cell_type": "code",
      "metadata": {
        "colab": {
          "base_uri": "https://localhost:8080/"
        },
        "id": "m_M1O0o85Vf8",
        "outputId": "c7ba0841-090f-4226-ceed-fea869fb5d5f"
      },
      "source": [
        "df.shape"
      ],
      "execution_count": 87,
      "outputs": [
        {
          "output_type": "execute_result",
          "data": {
            "text/plain": [
              "(126314, 21)"
            ]
          },
          "metadata": {
            "tags": []
          },
          "execution_count": 87
        }
      ]
    },
    {
      "cell_type": "markdown",
      "metadata": {
        "id": "OypApBSj5bGQ"
      },
      "source": [
        "Saat Anda menghapus empat kolom Elo, jumlah total kolom turun menjadi 21."
      ]
    },
    {
      "cell_type": "markdown",
      "metadata": {
        "id": "RD7kyU_v4tD4"
      },
      "source": [
        "#Specifying Data Types\n",
        "\n",
        "Sepuluh kolom Anda memiliki tipe data object. namun kita dapat mengubah type dataa date_game:"
      ]
    },
    {
      "cell_type": "code",
      "metadata": {
        "colab": {
          "base_uri": "https://localhost:8080/"
        },
        "id": "IW7LQ3Ee8rR4",
        "outputId": "dfe2a0ba-b87a-4705-bc10-9c2f1c14a9ce"
      },
      "source": [
        "df.info()"
      ],
      "execution_count": 88,
      "outputs": [
        {
          "output_type": "stream",
          "text": [
            "<class 'pandas.core.frame.DataFrame'>\n",
            "RangeIndex: 126314 entries, 0 to 126313\n",
            "Data columns (total 21 columns):\n",
            " #   Column         Non-Null Count   Dtype         \n",
            "---  ------         --------------   -----         \n",
            " 0   gameorder      126314 non-null  int64         \n",
            " 1   game_id        126314 non-null  object        \n",
            " 2   lg_id          126314 non-null  object        \n",
            " 3   _iscopy        126314 non-null  int64         \n",
            " 4   year_id        126314 non-null  int64         \n",
            " 5   date_game      126314 non-null  object        \n",
            " 6   seasongame     126314 non-null  int64         \n",
            " 7   is_playoffs    126314 non-null  int64         \n",
            " 8   team_id        126314 non-null  object        \n",
            " 9   fran_id        126314 non-null  object        \n",
            " 10  pts            126314 non-null  int64         \n",
            " 11  win_equiv      126314 non-null  float64       \n",
            " 12  opp_id         126314 non-null  object        \n",
            " 13  opp_fran       126314 non-null  object        \n",
            " 14  opp_pts        126314 non-null  int64         \n",
            " 15  game_location  126314 non-null  object        \n",
            " 16  game_result    126314 non-null  object        \n",
            " 17  forecast       126314 non-null  float64       \n",
            " 18  notes          5424 non-null    object        \n",
            " 19  date_played    126314 non-null  datetime64[ns]\n",
            " 20  difference     126314 non-null  int64         \n",
            "dtypes: datetime64[ns](1), float64(2), int64(8), object(10)\n",
            "memory usage: 20.2+ MB\n"
          ],
          "name": "stdout"
        }
      ]
    },
    {
      "cell_type": "code",
      "metadata": {
        "id": "qC7CBUcc63bY"
      },
      "source": [
        "df[\"date_game\"] = pd.to_datetime(df[\"date_game\"])"
      ],
      "execution_count": 89,
      "outputs": []
    },
    {
      "cell_type": "markdown",
      "metadata": {
        "id": "gpuInRjI69o3"
      },
      "source": [
        "Di sini, Anda gunakan .to_datetime() untuk menentukan semua tanggal permainan sebagai datetime objek.\n",
        "\n",
        "Kolom lain berisi teks yang sedikit lebih terstruktur.  kolom game_location hanya dapat memiliki tiga nilai yang berbeda:"
      ]
    },
    {
      "cell_type": "code",
      "metadata": {
        "colab": {
          "base_uri": "https://localhost:8080/"
        },
        "id": "aG5wuv2j683n",
        "outputId": "c2b18f82-f25f-45f0-f486-77a19ddc98f6"
      },
      "source": [
        "df[\"game_location\"].nunique()"
      ],
      "execution_count": 90,
      "outputs": [
        {
          "output_type": "execute_result",
          "data": {
            "text/plain": [
              "3"
            ]
          },
          "metadata": {
            "tags": []
          },
          "execution_count": 90
        }
      ]
    },
    {
      "cell_type": "code",
      "metadata": {
        "colab": {
          "base_uri": "https://localhost:8080/"
        },
        "id": "a3aWwiNS7-fD",
        "outputId": "66bc7c8b-5626-43f4-cf93-d455bfda4caf"
      },
      "source": [
        "df[\"game_location\"].value_counts()"
      ],
      "execution_count": 91,
      "outputs": [
        {
          "output_type": "execute_result",
          "data": {
            "text/plain": [
              "H    63138\n",
              "A    63138\n",
              "N       38\n",
              "Name: game_location, dtype: int64"
            ]
          },
          "metadata": {
            "tags": []
          },
          "execution_count": 91
        }
      ]
    },
    {
      "cell_type": "markdown",
      "metadata": {
        "id": "kqpXsLnD8IE_"
      },
      "source": [
        "menjadikan type data categorical"
      ]
    },
    {
      "cell_type": "code",
      "metadata": {
        "colab": {
          "base_uri": "https://localhost:8080/"
        },
        "id": "Mcqfoz7q8LaA",
        "outputId": "1f3317f0-7d79-4ee2-db50-8adead24eb05"
      },
      "source": [
        "df[\"game_location\"] = pd.Categorical(df[\"game_location\"])\n",
        "df[\"game_location\"].dtype"
      ],
      "execution_count": 92,
      "outputs": [
        {
          "output_type": "execute_result",
          "data": {
            "text/plain": [
              "CategoricalDtype(categories=['A', 'H', 'N'], ordered=False)"
            ]
          },
          "metadata": {
            "tags": []
          },
          "execution_count": 92
        }
      ]
    },
    {
      "cell_type": "markdown",
      "metadata": {
        "id": "Xcn2j0P08U7m"
      },
      "source": [
        "categorical data memiliki beberapa keunggulan dibandingkan teks tidak terstruktur. Saat Anda menentukan tipe data categorical, Anda membuat validasi lebih mudah dan menghemat banyak memori, karena Pandas hanya akan menggunakan nilai unik secara internal. Semakin tinggi rasio nilai total dengan nilai unik, semakin banyak penghematan ruang yang akan Anda dapatkan."
      ]
    },
    {
      "cell_type": "markdown",
      "metadata": {
        "id": "02xWYoxS8jzR"
      },
      "source": [
        "Jalankan df.info() lagi. Anda akan melihat bahwa mengubah type data game_location dari object menjadi categorical telah mengurangi penggunaan memori."
      ]
    },
    {
      "cell_type": "code",
      "metadata": {
        "colab": {
          "base_uri": "https://localhost:8080/"
        },
        "id": "vonX0lJe83e7",
        "outputId": "d45c40ed-dda6-4a07-8216-d262fad66603"
      },
      "source": [
        "df.info()"
      ],
      "execution_count": 94,
      "outputs": [
        {
          "output_type": "stream",
          "text": [
            "<class 'pandas.core.frame.DataFrame'>\n",
            "RangeIndex: 126314 entries, 0 to 126313\n",
            "Data columns (total 21 columns):\n",
            " #   Column         Non-Null Count   Dtype         \n",
            "---  ------         --------------   -----         \n",
            " 0   gameorder      126314 non-null  int64         \n",
            " 1   game_id        126314 non-null  object        \n",
            " 2   lg_id          126314 non-null  object        \n",
            " 3   _iscopy        126314 non-null  int64         \n",
            " 4   year_id        126314 non-null  int64         \n",
            " 5   date_game      126314 non-null  datetime64[ns]\n",
            " 6   seasongame     126314 non-null  int64         \n",
            " 7   is_playoffs    126314 non-null  int64         \n",
            " 8   team_id        126314 non-null  object        \n",
            " 9   fran_id        126314 non-null  object        \n",
            " 10  pts            126314 non-null  int64         \n",
            " 11  win_equiv      126314 non-null  float64       \n",
            " 12  opp_id         126314 non-null  object        \n",
            " 13  opp_fran       126314 non-null  object        \n",
            " 14  opp_pts        126314 non-null  int64         \n",
            " 15  game_location  126314 non-null  category      \n",
            " 16  game_result    126314 non-null  object        \n",
            " 17  forecast       126314 non-null  float64       \n",
            " 18  notes          5424 non-null    object        \n",
            " 19  date_played    126314 non-null  datetime64[ns]\n",
            " 20  difference     126314 non-null  int64         \n",
            "dtypes: category(1), datetime64[ns](2), float64(2), int64(8), object(8)\n",
            "memory usage: 19.4+ MB\n"
          ],
          "name": "stdout"
        }
      ]
    }
  ]
}